{
 "cells": [
  {
   "cell_type": "markdown",
   "id": "e16710ea-7183-4228-83b8-3428e92a1744",
   "metadata": {},
   "source": [
    "## Exercice 1.\n",
    "\n",
    "### 1."
   ]
  },
  {
   "cell_type": "code",
   "execution_count": 3,
   "id": "d9d4404d-0341-49d6-a172-1535bce1db8d",
   "metadata": {},
   "outputs": [
    {
     "data": {
      "text/plain": [
       "[2, 10, 26]"
      ]
     },
     "execution_count": 3,
     "metadata": {},
     "output_type": "execute_result"
    }
   ],
   "source": [
    "def multipoint_evaluation(P, L):\n",
    "    result = []\n",
    "    for l in L:\n",
    "        result.append(P(l))\n",
    "    return result\n",
    "\n",
    "R.<X> = PolynomialRing(QQ)\n",
    "\n",
    "P = X**2 +1\n",
    "L = [1, 3, 5]\n",
    "\n",
    "multipoint_evaluation(P, L)"
   ]
  },
  {
   "cell_type": "markdown",
   "id": "e7aeb40d-ed49-49dd-ad42-61f2780dedfd",
   "metadata": {},
   "source": [
    "### 2."
   ]
  },
  {
   "cell_type": "code",
   "execution_count": 17,
   "id": "bddc6f01-f3d5-4eeb-9261-af865d16b3fa",
   "metadata": {},
   "outputs": [
    {
     "ename": "SyntaxError",
     "evalue": "invalid syntax (3879696766.py, line 11)",
     "output_type": "error",
     "traceback": [
      "\u001b[0;36m  Cell \u001b[0;32mIn[17], line 11\u001b[0;36m\u001b[0m\n\u001b[0;31m    r1, r2 = receval(P0, L[Integer(0):((len(L)//Integer(2))-Integer(1))]), receval(P1, L[(len(L)//Integer(2) ):len(L)])\u001b[0m\n\u001b[0m    ^\u001b[0m\n\u001b[0;31mSyntaxError\u001b[0m\u001b[0;31m:\u001b[0m invalid syntax\n"
     ]
    }
   ],
   "source": [
    "def receval(P, L):\n",
    "    if (len(L) % 2 != 0) and (len(L) !=1):\n",
    "        return \"Error : L should be of size 2**n\"\n",
    "    elif len(L)==1 :\n",
    "        return P(L[0])\n",
    "    else:\n",
    "        P0, P1 = P, P \n",
    "        for i in range(len(L)/2):\n",
    "            P0 = P0%(X-L[i])\n",
    "            P1 = P1%(X-L[len(L)-1 -i]\n",
    "        r1, r2 = receval(P0, L[0:((len(L)//2)-1)]), receval(P1, L[(len(L)//2 ):len(L)])\n",
    "        return r1.extends(r2)\n",
    "# to end\n",
    "        "
   ]
  },
  {
   "cell_type": "markdown",
   "id": "bad961df-893c-4400-9126-55e496ab0809",
   "metadata": {},
   "source": [
    "### 3."
   ]
  },
  {
   "cell_type": "code",
   "execution_count": 10,
   "id": "ed44e863-c15f-4e87-8049-d53cd1315cba",
   "metadata": {},
   "outputs": [
    {
     "name": "stdout",
     "output_type": "stream",
     "text": [
      "0.00011000000000027654\n",
      "0.00013799999999974943\n"
     ]
    }
   ],
   "source": [
    "P = X**3 + 3*X**2 + 2*X +1\n",
    "L=[0, 1, 2, 3]\n",
    "\n",
    "t = cputime()\n",
    "receval(P, L)\n",
    "print(cputime(t))\n",
    "\n",
    "\n",
    "t = cputime()\n",
    "multipoint_evaluation(P, L)\n",
    "print(cputime(t))"
   ]
  },
  {
   "cell_type": "markdown",
   "id": "c9cd85f6-ad2b-4b1f-b396-0e433b0becd9",
   "metadata": {},
   "source": [
    "### 4."
   ]
  },
  {
   "cell_type": "code",
   "execution_count": null,
   "id": "9a3251ca-ad26-4639-a77a-4445ad5eb58b",
   "metadata": {},
   "outputs": [],
   "source": []
  },
  {
   "cell_type": "markdown",
   "id": "a9bbe64a-14f0-482e-be5e-c1848e2aef9d",
   "metadata": {},
   "source": [
    "## Exercice 2:\n",
    "\n",
    "### 1."
   ]
  },
  {
   "cell_type": "code",
   "execution_count": null,
   "id": "ff640930-e067-44dc-badb-258c30eb7ea3",
   "metadata": {},
   "outputs": [],
   "source": [
    "def lagrange_interpolation(L, K):\n",
    "    if len(L) != len(L):\n",
    "        return "
   ]
  }
 ],
 "metadata": {
  "kernelspec": {
   "display_name": "SageMath 10.4",
   "language": "sage",
   "name": "sagemath"
  },
  "language_info": {
   "codemirror_mode": {
    "name": "ipython",
    "version": 3
   },
   "file_extension": ".py",
   "mimetype": "text/x-python",
   "name": "python",
   "nbconvert_exporter": "python",
   "pygments_lexer": "ipython3",
   "version": "3.9.20"
  }
 },
 "nbformat": 4,
 "nbformat_minor": 5
}

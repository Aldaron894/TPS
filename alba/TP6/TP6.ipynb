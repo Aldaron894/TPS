{
 "cells": [
  {
   "cell_type": "markdown",
   "id": "e16710ea-7183-4228-83b8-3428e92a1744",
   "metadata": {},
   "source": [
    "## Exercice 1.\n",
    "\n",
    "### 1."
   ]
  },
  {
   "cell_type": "code",
   "execution_count": 3,
   "id": "d9d4404d-0341-49d6-a172-1535bce1db8d",
   "metadata": {},
   "outputs": [
    {
     "data": {
      "text/plain": [
       "[2, 10, 26]"
      ]
     },
     "execution_count": 3,
     "metadata": {},
     "output_type": "execute_result"
    }
   ],
   "source": [
    "def multipoint_evaluation(P, L):\n",
    "    result = []\n",
    "    for l in L:\n",
    "        result.append(P(l))\n",
    "    return result\n",
    "\n",
    "R.<X> = PolynomialRing(QQ)\n",
    "\n",
    "P = X**2 +1\n",
    "L = [1, 3, 5]\n",
    "\n",
    "multipoint_evaluation(P, L)"
   ]
  },
  {
   "cell_type": "markdown",
   "id": "e7aeb40d-ed49-49dd-ad42-61f2780dedfd",
   "metadata": {},
   "source": [
    "### 2."
   ]
  },
  {
   "cell_type": "code",
   "execution_count": 14,
   "id": "bddc6f01-f3d5-4eeb-9261-af865d16b3fa",
   "metadata": {},
   "outputs": [],
   "source": [
    "def receval(P, L):\n",
    "    \n",
    "    if len(L)==1 :\n",
    "        return [P(L[0])]\n",
    "    else:\n",
    "        P0, P1 = P, P \n",
    "        for i in range(len(L)//2):\n",
    "            P0 = P0%(X-L[i])\n",
    "            P1 = P1%(X-L[len(L)-1 -i])\n",
    "        mid = len(L)//2\n",
    "        L0 = L[ : (mid -1)]\n",
    "        L1 = L[mid : ]\n",
    "        r0, r1 = receval(P0, L0), receval(P1, L1)\n",
    "        return r0.extends(r1)\n",
    "        \n",
    "# maximum recursion depth exceeded while calling a Python object        "
   ]
  },
  {
   "cell_type": "markdown",
   "id": "bad961df-893c-4400-9126-55e496ab0809",
   "metadata": {},
   "source": [
    "### 3."
   ]
  },
  {
   "cell_type": "code",
   "execution_count": 15,
   "id": "ed44e863-c15f-4e87-8049-d53cd1315cba",
   "metadata": {},
   "outputs": [
    {
     "ename": "RecursionError",
     "evalue": "maximum recursion depth exceeded while calling a Python object",
     "output_type": "error",
     "traceback": [
      "\u001b[0;31m---------------------------------------------------------------------------\u001b[0m",
      "\u001b[0;31mRecursionError\u001b[0m                            Traceback (most recent call last)",
      "Cell \u001b[0;32mIn[15], line 6\u001b[0m\n\u001b[1;32m      2\u001b[0m P \u001b[38;5;241m=\u001b[39m X\u001b[38;5;241m*\u001b[39m\u001b[38;5;241m*\u001b[39mInteger(\u001b[38;5;241m3\u001b[39m) \u001b[38;5;241m+\u001b[39m Integer(\u001b[38;5;241m3\u001b[39m)\u001b[38;5;241m*\u001b[39mX\u001b[38;5;241m*\u001b[39m\u001b[38;5;241m*\u001b[39mInteger(\u001b[38;5;241m2\u001b[39m) \u001b[38;5;241m+\u001b[39m Integer(\u001b[38;5;241m2\u001b[39m)\u001b[38;5;241m*\u001b[39mX \u001b[38;5;241m+\u001b[39mInteger(\u001b[38;5;241m1\u001b[39m)\n\u001b[1;32m      3\u001b[0m L\u001b[38;5;241m=\u001b[39m[Integer(\u001b[38;5;241m0\u001b[39m), Integer(\u001b[38;5;241m1\u001b[39m), Integer(\u001b[38;5;241m2\u001b[39m), Integer(\u001b[38;5;241m3\u001b[39m)]\n\u001b[0;32m----> 6\u001b[0m \u001b[38;5;28mprint\u001b[39m(\u001b[43mreceval\u001b[49m\u001b[43m(\u001b[49m\u001b[43mP\u001b[49m\u001b[43m,\u001b[49m\u001b[43m \u001b[49m\u001b[43mL\u001b[49m\u001b[43m)\u001b[49m)\n",
      "Cell \u001b[0;32mIn[14], line 13\u001b[0m, in \u001b[0;36mreceval\u001b[0;34m(P, L)\u001b[0m\n\u001b[1;32m     11\u001b[0m L0 \u001b[38;5;241m=\u001b[39m L[ : (mid \u001b[38;5;241m-\u001b[39mInteger(\u001b[38;5;241m1\u001b[39m))]\n\u001b[1;32m     12\u001b[0m L1 \u001b[38;5;241m=\u001b[39m L[mid : ]\n\u001b[0;32m---> 13\u001b[0m r0, r1 \u001b[38;5;241m=\u001b[39m receval(P0, L0), \u001b[43mreceval\u001b[49m\u001b[43m(\u001b[49m\u001b[43mP1\u001b[49m\u001b[43m,\u001b[49m\u001b[43m \u001b[49m\u001b[43mL1\u001b[49m\u001b[43m)\u001b[49m\n\u001b[1;32m     14\u001b[0m \u001b[38;5;28;01mreturn\u001b[39;00m r0\u001b[38;5;241m.\u001b[39mextends(r1)\n",
      "Cell \u001b[0;32mIn[14], line 13\u001b[0m, in \u001b[0;36mreceval\u001b[0;34m(P, L)\u001b[0m\n\u001b[1;32m     11\u001b[0m L0 \u001b[38;5;241m=\u001b[39m L[ : (mid \u001b[38;5;241m-\u001b[39mInteger(\u001b[38;5;241m1\u001b[39m))]\n\u001b[1;32m     12\u001b[0m L1 \u001b[38;5;241m=\u001b[39m L[mid : ]\n\u001b[0;32m---> 13\u001b[0m r0, r1 \u001b[38;5;241m=\u001b[39m \u001b[43mreceval\u001b[49m\u001b[43m(\u001b[49m\u001b[43mP0\u001b[49m\u001b[43m,\u001b[49m\u001b[43m \u001b[49m\u001b[43mL0\u001b[49m\u001b[43m)\u001b[49m, receval(P1, L1)\n\u001b[1;32m     14\u001b[0m \u001b[38;5;28;01mreturn\u001b[39;00m r0\u001b[38;5;241m.\u001b[39mextends(r1)\n",
      "    \u001b[0;31m[... skipping similar frames: receval at line 13 (2968 times)]\u001b[0m\n",
      "Cell \u001b[0;32mIn[14], line 13\u001b[0m, in \u001b[0;36mreceval\u001b[0;34m(P, L)\u001b[0m\n\u001b[1;32m     11\u001b[0m L0 \u001b[38;5;241m=\u001b[39m L[ : (mid \u001b[38;5;241m-\u001b[39mInteger(\u001b[38;5;241m1\u001b[39m))]\n\u001b[1;32m     12\u001b[0m L1 \u001b[38;5;241m=\u001b[39m L[mid : ]\n\u001b[0;32m---> 13\u001b[0m r0, r1 \u001b[38;5;241m=\u001b[39m \u001b[43mreceval\u001b[49m\u001b[43m(\u001b[49m\u001b[43mP0\u001b[49m\u001b[43m,\u001b[49m\u001b[43m \u001b[49m\u001b[43mL0\u001b[49m\u001b[43m)\u001b[49m, receval(P1, L1)\n\u001b[1;32m     14\u001b[0m \u001b[38;5;28;01mreturn\u001b[39;00m r0\u001b[38;5;241m.\u001b[39mextends(r1)\n",
      "Cell \u001b[0;32mIn[14], line 3\u001b[0m, in \u001b[0;36mreceval\u001b[0;34m(P, L)\u001b[0m\n\u001b[1;32m      1\u001b[0m \u001b[38;5;28;01mdef\u001b[39;00m \u001b[38;5;21mreceval\u001b[39m(P, L):\n\u001b[0;32m----> 3\u001b[0m     \u001b[38;5;28;01mif\u001b[39;00m \u001b[38;5;28;43mlen\u001b[39;49m\u001b[43m(\u001b[49m\u001b[43mL\u001b[49m\u001b[43m)\u001b[49m\u001b[38;5;241m==\u001b[39mInteger(\u001b[38;5;241m1\u001b[39m) :\n\u001b[1;32m      4\u001b[0m         \u001b[38;5;28;01mreturn\u001b[39;00m [P(L[Integer(\u001b[38;5;241m0\u001b[39m)])]\n\u001b[1;32m      5\u001b[0m     \u001b[38;5;28;01melse\u001b[39;00m:\n",
      "\u001b[0;31mRecursionError\u001b[0m: maximum recursion depth exceeded while calling a Python object"
     ]
    }
   ],
   "source": [
    "R.<X> = GF(5)[]; R\n",
    "P = X**3 + 3*X**2 + 2*X +1\n",
    "L=[0, 1, 2, 3]\n",
    "\n",
    "\n",
    "print(receval(P, L))\n"
   ]
  },
  {
   "cell_type": "markdown",
   "id": "c9cd85f6-ad2b-4b1f-b396-0e433b0becd9",
   "metadata": {},
   "source": [
    "### 4."
   ]
  },
  {
   "cell_type": "code",
   "execution_count": null,
   "id": "9a3251ca-ad26-4639-a77a-4445ad5eb58b",
   "metadata": {},
   "outputs": [],
   "source": []
  },
  {
   "cell_type": "markdown",
   "id": "a9bbe64a-14f0-482e-be5e-c1848e2aef9d",
   "metadata": {},
   "source": [
    "## Exercice 2:\n",
    "\n",
    "### 1."
   ]
  },
  {
   "cell_type": "code",
   "execution_count": null,
   "id": "ff640930-e067-44dc-badb-258c30eb7ea3",
   "metadata": {},
   "outputs": [],
   "source": [
    "def lagrange_interpolation(L, K):\n",
    "    \n",
    "            "
   ]
  }
 ],
 "metadata": {
  "kernelspec": {
   "display_name": "SageMath 10.4",
   "language": "sage",
   "name": "sagemath"
  },
  "language_info": {
   "codemirror_mode": {
    "name": "ipython",
    "version": 3
   },
   "file_extension": ".py",
   "mimetype": "text/x-python",
   "name": "python",
   "nbconvert_exporter": "python",
   "pygments_lexer": "ipython3",
   "version": "3.9.20"
  }
 },
 "nbformat": 4,
 "nbformat_minor": 5
}

{
 "cells": [
  {
   "cell_type": "markdown",
   "id": "c29efed4-9b32-45b1-b883-3ffee5827bc7",
   "metadata": {},
   "source": [
    "# Exercise 1.\n",
    "\n",
    "## 1."
   ]
  },
  {
   "cell_type": "code",
   "execution_count": 45,
   "id": "58c6f7bd-5ed9-4038-a0ee-8b2930e6b75f",
   "metadata": {},
   "outputs": [
    {
     "data": {
      "text/plain": [
       "[    1     0     0 61/45]\n",
       "[    0     1     0 34/45]\n",
       "[    0     0     1 47/45]"
      ]
     },
     "execution_count": 45,
     "metadata": {},
     "output_type": "execute_result"
    }
   ],
   "source": [
    "def GaussianSolver(A, Y):\n",
    "    B=A.augment(Y)\n",
    "    return B.echelon_form()\n",
    "\n",
    "A = matrix(QQ,[[1, 2, 3], [2, -1, 1], [3, 4, -2,]])\n",
    "Y = vector([6, 3, 5])\n",
    "\n",
    "GaussianSolver(A, Y)"
   ]
  },
  {
   "cell_type": "markdown",
   "id": "3ebb4681-c7ab-419e-8233-1e0ca10ac6ca",
   "metadata": {},
   "source": [
    "## 2. "
   ]
  },
  {
   "cell_type": "code",
   "execution_count": 48,
   "id": "5040bf58-36c1-4b2a-b653-734eaf19c66e",
   "metadata": {},
   "outputs": [
    {
     "data": {
      "text/plain": [
       "[1 0 0 a]\n",
       "[0 1 0 1]\n",
       "[0 0 1 1]"
      ]
     },
     "execution_count": 48,
     "metadata": {},
     "output_type": "execute_result"
    }
   ],
   "source": [
    "f(x) = x^2 + x + 1 \n",
    "F = GF(2^2, 'a', modulus=f(x))\n",
    "a = F.gen()\n",
    "\n",
    "A = matrix(F, [[1, 1, a, 1], [1, 1, (a+1), 0], [a, 0, 1, a]])\n",
    "Y = vector(F, [1, 0, a])\n",
    "#GaussianSolver(A, Y) don't work with the augment\n",
    "A.echelon_form()"
   ]
  },
  {
   "cell_type": "markdown",
   "id": "f569d3f4-0afa-4a80-bff5-dac3119c8ac1",
   "metadata": {},
   "source": [
    "# Exercise 2.\n",
    "\n",
    "## 1."
   ]
  },
  {
   "cell_type": "code",
   "execution_count": 78,
   "id": "5c51fcb2-7f12-41eb-ae95-ed78d283e720",
   "metadata": {},
   "outputs": [
    {
     "name": "stdout",
     "output_type": "stream",
     "text": [
      "4\n",
      "0.0010089999999998156\n",
      "4\n",
      "0.0005439999999996559\n",
      "4\n",
      "0.00039899999999981617\n"
     ]
    }
   ],
   "source": [
    "def resultant1(f, g):\n",
    "    return f.sylvester_matrix(g,x).determinant()\n",
    "\n",
    "def resultant2(p, q):\n",
    "    if q == 0:\n",
    "        return 0\n",
    "    if q.degree() == 0:\n",
    "        return q.leading_coefficient()\n",
    "    degree_p = p.degree()\n",
    "    degree_q = q.degree()\n",
    "    sign = (-1) ** (degree_p * degree_q)\n",
    "    return sign * q.leading_coefficient() ** degree_p * resultant2(q, p % q)\n",
    "    \n",
    "R.<x> = PolynomialRing(QQ)\n",
    "f= 1 + 2*x + 3*x**3\n",
    "g= 1 + x\n",
    "\n",
    "t=cputime()\n",
    "print(resultant1(f, g))\n",
    "t1=cputime(t)\n",
    "print(t1)\n",
    "t=cputime()\n",
    "print(resultant2(f, g))\n",
    "t1=cputime(t)\n",
    "print(t1)\n",
    "t=cputime()\n",
    "print(f.resultant(g))\n",
    "t1=cputime(t)\n",
    "print(t1)"
   ]
  },
  {
   "cell_type": "markdown",
   "id": "46b03182-c3ed-43b8-b088-1ceb26b4b935",
   "metadata": {},
   "source": [
    "# Exercise 3.\n",
    "\n",
    "## 1.\n"
   ]
  },
  {
   "cell_type": "code",
   "execution_count": 9,
   "id": "a3903f06-431f-48e8-aa6c-88478e9096d4",
   "metadata": {},
   "outputs": [
    {
     "name": "stdout",
     "output_type": "stream",
     "text": [
      "9.00000000000000*x^5 - 45.0000000000000*x^4 + 9.00000000000000*x^3 + 9.00000000000000*x^2 - 18.0000000000000*x + 9.00000000000000\n"
     ]
    }
   ],
   "source": [
    "R.<x,y> = PolynomialRing(RR)\n",
    "f= x**2*y+x-1\n",
    "g= x*y + x + y**2 -4\n",
    "\n",
    "f1 =f.resultant(g,x)\n",
    "g1 = g.resultant(f1, y)\n",
    "\n",
    "print (g1)\n",
    "\n"
   ]
  },
  {
   "cell_type": "markdown",
   "id": "4ab4547b-6d46-4c1f-a152-302adea7cf26",
   "metadata": {},
   "source": [
    "# Exercice 4."
   ]
  },
  {
   "cell_type": "code",
   "execution_count": null,
   "id": "302d915b-da45-46a1-845a-55db91c10fc0",
   "metadata": {},
   "outputs": [],
   "source": []
  }
 ],
 "metadata": {
  "kernelspec": {
   "display_name": "SageMath 10.4",
   "language": "sage",
   "name": "sagemath"
  },
  "language_info": {
   "codemirror_mode": {
    "name": "ipython",
    "version": 3
   },
   "file_extension": ".py",
   "mimetype": "text/x-python",
   "name": "python",
   "nbconvert_exporter": "python",
   "pygments_lexer": "ipython3",
   "version": "3.9.20"
  }
 },
 "nbformat": 4,
 "nbformat_minor": 5
}

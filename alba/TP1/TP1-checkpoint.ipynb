{
 "cells": [
  {
   "cell_type": "markdown",
   "id": "6dee5739-9ce7-4971-a7de-c4d2839c9c82",
   "metadata": {},
   "source": [
    "# TP1\n",
    "\n",
    "## Exercice 1:"
   ]
  },
  {
   "cell_type": "markdown",
   "id": "a8302b59-4048-45ee-a3c2-87dc39e0fe82",
   "metadata": {},
   "source": [
    "### 1.a)"
   ]
  },
  {
   "cell_type": "code",
   "execution_count": 6,
   "id": "42a6ee0a-ac68-4503-b0c0-971648043315",
   "metadata": {},
   "outputs": [
    {
     "name": "stdout",
     "output_type": "stream",
     "text": [
      "[2, 3, 5, 7, 11, 13, 17, 19, 23, 29, 31, 37, 41, 43, 47, 53, 59, 61, 67, 71, 73, 79, 83, 89, 97]\n"
     ]
    }
   ],
   "source": [
    "L=[]\n",
    "for l in range(100):\n",
    "    if is_prime(l+1):\n",
    "        L.append(l+1)\n",
    "print(L)"
   ]
  },
  {
   "cell_type": "markdown",
   "id": "3374ad13-2d96-40c0-91fd-872ef2c110ed",
   "metadata": {},
   "source": [
    "### 1.b)"
   ]
  },
  {
   "cell_type": "code",
   "execution_count": 8,
   "id": "210ec638-156e-4a54-b7e0-342d7df1b7dc",
   "metadata": {},
   "outputs": [
    {
     "name": "stdout",
     "output_type": "stream",
     "text": [
      "[2, 3, 5, 7, 11, 13, 17, 19, 23, 29, 31, 37, 41, 43, 47, 53, 59, 61, 67, 71, 73, 79, 83, 89, 97]\n"
     ]
    }
   ],
   "source": [
    "L=[]\n",
    "l=0\n",
    "while next_prime(l)<100:\n",
    "    l=next_prime(l)\n",
    "    L.append(l)\n",
    "print(L)"
   ]
  },
  {
   "cell_type": "markdown",
   "id": "b86f0142-da68-4e83-8982-91e83216e4a4",
   "metadata": {},
   "source": [
    "### 1.c)"
   ]
  },
  {
   "cell_type": "code",
   "execution_count": 43,
   "id": "2769b587-e8a2-4f53-8fff-1fe64090c719",
   "metadata": {},
   "outputs": [
    {
     "name": "stdout",
     "output_type": "stream",
     "text": [
      "[2, 3, 5, 7, 11, 13, 17, 19, 23, 29, 31, 37, 41, 43, 47, 53, 59, 61, 67, 71, 73, 79, 83, 89, 97]\n"
     ]
    }
   ],
   "source": [
    "L=list(filter(is_prime, [1..100]))\n",
    "print(L)"
   ]
  },
  {
   "cell_type": "markdown",
   "id": "c881511f-86f3-4dfb-a212-51f1764bbe3d",
   "metadata": {},
   "source": [
    "### 2."
   ]
  },
  {
   "cell_type": "code",
   "execution_count": 27,
   "id": "fdb22d6d-894a-4c5c-851f-2d02c31caaab",
   "metadata": {},
   "outputs": [],
   "source": [
    "L=set(L)"
   ]
  },
  {
   "cell_type": "markdown",
   "id": "760ee0f3-d028-467b-aa5e-de57e123d162",
   "metadata": {},
   "source": [
    "### 3."
   ]
  },
  {
   "cell_type": "code",
   "execution_count": 32,
   "id": "e51f112a-200f-4084-9a4f-0183e96550bc",
   "metadata": {},
   "outputs": [
    {
     "name": "stdout",
     "output_type": "stream",
     "text": [
      "the sum is equal to 1060 and the product is equal to 2305567963945518424753102147331756070\n"
     ]
    }
   ],
   "source": [
    "somme = 0\n",
    "produit = 1\n",
    "for l in L:\n",
    "    somme += l\n",
    "    produit *= l\n",
    "print(\"the sum is equal to {} and the product is equal to {}\".format(somme, produit))"
   ]
  },
  {
   "cell_type": "markdown",
   "id": "3b339fe2-e744-4398-8444-5831e2fc6010",
   "metadata": {},
   "source": [
    "### 4."
   ]
  },
  {
   "cell_type": "code",
   "execution_count": 70,
   "id": "0f12ea61-14e8-44a8-8762-ea35cc864f0f",
   "metadata": {},
   "outputs": [
    {
     "name": "stdout",
     "output_type": "stream",
     "text": [
      "[2]\n"
     ]
    }
   ],
   "source": [
    "K=list(filter(is_prime, list(map(lambda n: 2**(n-1), L))))\n",
    "print(K)"
   ]
  },
  {
   "cell_type": "markdown",
   "id": "b98de1e9-9c34-40bb-b209-cf46e70a481a",
   "metadata": {},
   "source": [
    "### 5."
   ]
  },
  {
   "cell_type": "code",
   "execution_count": 54,
   "id": "fc96a81e-6e04-4a03-959a-5d4519184200",
   "metadata": {},
   "outputs": [
    {
     "name": "stdout",
     "output_type": "stream",
     "text": [
      "[2, 3, 5, 7, 13, 17, 19, 23, 29, 31, 37, 41, 43, 47, 53, 59, 61, 67, 71, 73, 79, 83, 89, 97]\n"
     ]
    }
   ],
   "source": [
    "L=list(filter(is_prime, [1..100]))\n",
    "L.pop(4)\n",
    "print(L)"
   ]
  },
  {
   "cell_type": "markdown",
   "id": "c991292b-81ca-4092-a0cb-edf6f257799a",
   "metadata": {},
   "source": [
    "## Exercice 2:"
   ]
  },
  {
   "cell_type": "code",
   "execution_count": 73,
   "id": "89ec1725-d6d5-43be-9307-8ad676713ef5",
   "metadata": {},
   "outputs": [
    {
     "name": "stdout",
     "output_type": "stream",
     "text": [
      "6\n",
      "6\n"
     ]
    }
   ],
   "source": [
    "def recgcd(a, b):\n",
    "    if b==0:\n",
    "        return a\n",
    "    else:\n",
    "        return recgcd(b, a%b)\n",
    "\n",
    "def itgcd(a,b):\n",
    "    while b>1:\n",
    "        r=a%b\n",
    "        a=b\n",
    "        b=r\n",
    "    return a\n",
    "        \n",
    "print(recgcd(30, 12))\n",
    "print(itgcd(30,12))"
   ]
  },
  {
   "cell_type": "markdown",
   "id": "fd986f48-9709-4991-bccc-6795dd402209",
   "metadata": {},
   "source": [
    "## Exercice 3:"
   ]
  },
  {
   "cell_type": "code",
   "execution_count": 81,
   "id": "5812e26d-3c5a-4706-85e9-0305bcd080e1",
   "metadata": {},
   "outputs": [
    {
     "data": {
      "text/plain": [
       "[1, 2, 3, 4, 5, 6, 8]"
      ]
     },
     "execution_count": 81,
     "metadata": {},
     "output_type": "execute_result"
    }
   ],
   "source": [
    "def SelectionSort(L):\n",
    "    for i in range(len(L)-1):\n",
    "        jMin = i\n",
    "        for j in range(i+1, len(L)):\n",
    "            if L[j] < L[jMin]:\n",
    "                jMin=j\n",
    "        if (jMin !=i):\n",
    "            L[jMin], L[i] = L[i], L[jMin]\n",
    "    return L\n",
    "\n",
    "def \n",
    "SelectionSort([3,4,1,2,5,8,6])"
   ]
  },
  {
   "cell_type": "code",
   "execution_count": null,
   "id": "2224e52a-38b2-4c2f-8691-a59d9f86edd9",
   "metadata": {},
   "outputs": [],
   "source": []
  }
 ],
 "metadata": {
  "kernelspec": {
   "display_name": "SageMath 10.4",
   "language": "sage",
   "name": "sagemath"
  },
  "language_info": {
   "codemirror_mode": {
    "name": "ipython",
    "version": 3
   },
   "file_extension": ".py",
   "mimetype": "text/x-python",
   "name": "python",
   "nbconvert_exporter": "python",
   "pygments_lexer": "ipython3",
   "version": "3.9.20"
  }
 },
 "nbformat": 4,
 "nbformat_minor": 5
}

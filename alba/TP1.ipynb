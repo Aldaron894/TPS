{
 "cells": [
  {
   "cell_type": "markdown",
   "id": "6dee5739-9ce7-4971-a7de-c4d2839c9c82",
   "metadata": {},
   "source": [
    "# TP1\n",
    "\n",
    "## Exercice 1:"
   ]
  },
  {
   "cell_type": "markdown",
   "id": "a8302b59-4048-45ee-a3c2-87dc39e0fe82",
   "metadata": {},
   "source": [
    "### 1.a)"
   ]
  },
  {
   "cell_type": "code",
   "execution_count": 1,
   "id": "42a6ee0a-ac68-4503-b0c0-971648043315",
   "metadata": {
    "vscode": {
     "languageId": "python"
    }
   },
   "outputs": [
    {
     "name": "stdout",
     "output_type": "stream",
     "text": [
      "[2, 3, 5, 7, 11, 13, 17, 19, 23, 29, 31, 37, 41, 43, 47, 53, 59, 61, 67, 71, 73, 79, 83, 89, 97]\n"
     ]
    }
   ],
   "source": [
    "L=[]\n",
    "for l in range(100):\n",
    "    if is_prime(l+1):\n",
    "        L.append(l+1)\n",
    "print(L)"
   ]
  },
  {
   "cell_type": "markdown",
   "id": "3374ad13-2d96-40c0-91fd-872ef2c110ed",
   "metadata": {},
   "source": [
    "### 1.b)"
   ]
  },
  {
   "cell_type": "code",
   "execution_count": 2,
   "id": "210ec638-156e-4a54-b7e0-342d7df1b7dc",
   "metadata": {
    "vscode": {
     "languageId": "python"
    }
   },
   "outputs": [
    {
     "name": "stdout",
     "output_type": "stream",
     "text": [
      "[2, 3, 5, 7, 11, 13, 17, 19, 23, 29, 31, 37, 41, 43, 47, 53, 59, 61, 67, 71, 73, 79, 83, 89, 97]\n"
     ]
    }
   ],
   "source": [
    "L=[]\n",
    "l=0\n",
    "while next_prime(l)<100:\n",
    "    l=next_prime(l)\n",
    "    L.append(l)\n",
    "print(L)"
   ]
  },
  {
   "cell_type": "markdown",
   "id": "b86f0142-da68-4e83-8982-91e83216e4a4",
   "metadata": {},
   "source": [
    "### 1.c)"
   ]
  },
  {
   "cell_type": "code",
   "execution_count": 3,
   "id": "2769b587-e8a2-4f53-8fff-1fe64090c719",
   "metadata": {
    "vscode": {
     "languageId": "python"
    }
   },
   "outputs": [
    {
     "name": "stdout",
     "output_type": "stream",
     "text": [
      "[2, 3, 5, 7, 11, 13, 17, 19, 23, 29, 31, 37, 41, 43, 47, 53, 59, 61, 67, 71, 73, 79, 83, 89, 97]\n"
     ]
    }
   ],
   "source": [
    "L=list(filter(is_prime, [1..100]))\n",
    "print(L)"
   ]
  },
  {
   "cell_type": "markdown",
   "id": "c881511f-86f3-4dfb-a212-51f1764bbe3d",
   "metadata": {},
   "source": [
    "### 2."
   ]
  },
  {
   "cell_type": "code",
   "execution_count": 4,
   "id": "fdb22d6d-894a-4c5c-851f-2d02c31caaab",
   "metadata": {
    "vscode": {
     "languageId": "python"
    }
   },
   "outputs": [],
   "source": [
    "L=set(L)"
   ]
  },
  {
   "cell_type": "markdown",
   "id": "760ee0f3-d028-467b-aa5e-de57e123d162",
   "metadata": {},
   "source": [
    "### 3."
   ]
  },
  {
   "cell_type": "code",
   "execution_count": 5,
   "id": "e51f112a-200f-4084-9a4f-0183e96550bc",
   "metadata": {
    "vscode": {
     "languageId": "python"
    }
   },
   "outputs": [
    {
     "name": "stdout",
     "output_type": "stream",
     "text": [
      "the sum is equal to 1060 and the product is equal to 2305567963945518424753102147331756070\n"
     ]
    }
   ],
   "source": [
    "somme = 0\n",
    "produit = 1\n",
    "for l in L:\n",
    "    somme += l\n",
    "    produit *= l\n",
    "print(\"the sum is equal to {} and the product is equal to {}\".format(somme, produit))"
   ]
  },
  {
   "cell_type": "markdown",
   "id": "3b339fe2-e744-4398-8444-5831e2fc6010",
   "metadata": {},
   "source": [
    "### 4."
   ]
  },
  {
   "cell_type": "code",
   "execution_count": 6,
   "id": "0f12ea61-14e8-44a8-8762-ea35cc864f0f",
   "metadata": {
    "vscode": {
     "languageId": "python"
    }
   },
   "outputs": [
    {
     "name": "stdout",
     "output_type": "stream",
     "text": [
      "[2]\n"
     ]
    }
   ],
   "source": [
    "K=list(filter(is_prime, list(map(lambda n: 2**(n-1), L))))\n",
    "print(K)"
   ]
  },
  {
   "cell_type": "markdown",
   "id": "b98de1e9-9c34-40bb-b209-cf46e70a481a",
   "metadata": {},
   "source": [
    "### 5."
   ]
  },
  {
   "cell_type": "code",
   "execution_count": 7,
   "id": "fc96a81e-6e04-4a03-959a-5d4519184200",
   "metadata": {
    "vscode": {
     "languageId": "python"
    }
   },
   "outputs": [
    {
     "name": "stdout",
     "output_type": "stream",
     "text": [
      "[2, 3, 5, 7, 13, 17, 19, 23, 29, 31, 37, 41, 43, 47, 53, 59, 61, 67, 71, 73, 79, 83, 89, 97]\n"
     ]
    }
   ],
   "source": [
    "L=list(filter(is_prime, [1..100]))\n",
    "L.pop(4)\n",
    "print(L)"
   ]
  },
  {
   "cell_type": "markdown",
   "id": "c991292b-81ca-4092-a0cb-edf6f257799a",
   "metadata": {},
   "source": [
    "## Exercice 2:"
   ]
  },
  {
   "cell_type": "code",
   "execution_count": 8,
   "id": "89ec1725-d6d5-43be-9307-8ad676713ef5",
   "metadata": {
    "vscode": {
     "languageId": "python"
    }
   },
   "outputs": [
    {
     "name": "stdout",
     "output_type": "stream",
     "text": [
      "6\n",
      "6\n"
     ]
    }
   ],
   "source": [
    "def recgcd(a, b):\n",
    "    if b==0:\n",
    "        return a\n",
    "    else:\n",
    "        return recgcd(b, a%b)\n",
    "\n",
    "def itgcd(a,b):\n",
    "    while b>1:\n",
    "        r=a%b\n",
    "        a=b\n",
    "        b=r\n",
    "    return a\n",
    "        \n",
    "print(recgcd(30, 12))\n",
    "print(itgcd(30,12))"
   ]
  },
  {
   "cell_type": "markdown",
   "id": "fd986f48-9709-4991-bccc-6795dd402209",
   "metadata": {},
   "source": [
    "## Exercice 3:"
   ]
  },
  {
   "cell_type": "markdown",
   "id": "c1745c1b-0473-4019-be94-df248bd452a6",
   "metadata": {},
   "source": [
    "### 1."
   ]
  },
  {
   "cell_type": "code",
   "execution_count": 9,
   "id": "5812e26d-3c5a-4706-85e9-0305bcd080e1",
   "metadata": {
    "vscode": {
     "languageId": "python"
    }
   },
   "outputs": [
    {
     "data": {
      "text/plain": [
       "[1, 2, 3, 4, 5, 6, 8]"
      ]
     },
     "execution_count": 9,
     "metadata": {},
     "output_type": "execute_result"
    }
   ],
   "source": [
    "def SelectionSort(L):\n",
    "    for i in range(len(L)-1):\n",
    "        jMin = i\n",
    "        for j in range(i+1, len(L)):\n",
    "            if L[j] < L[jMin]:\n",
    "                jMin=j\n",
    "        if (jMin !=i):\n",
    "            L[jMin], L[i] = L[i], L[jMin]\n",
    "    return L\n",
    "    \n",
    "SelectionSort([3,4,1,2,5,8,6])"
   ]
  },
  {
   "cell_type": "markdown",
   "id": "b4ca5ded-b5f9-433e-bb67-f0131c3bf986",
   "metadata": {},
   "source": [
    "### 2."
   ]
  },
  {
   "cell_type": "code",
   "execution_count": 13,
   "id": "bf8810bb-a789-43ad-ad3f-62d682435e55",
   "metadata": {
    "vscode": {
     "languageId": "python"
    }
   },
   "outputs": [
    {
     "name": "stdout",
     "output_type": "stream",
     "text": [
      "1\n",
      "2\n",
      "3\n",
      "4\n"
     ]
    }
   ],
   "source": [
    "def InsertionSort(L):\n",
    "    i = 1\n",
    "    while i < len(L):\n",
    "        j=i\n",
    "        while j>0 and L[j-1] > L[j]:\n",
    "            L[j], L[j-1] = L [j-1], L[j]\n",
    "            j=j-1\n",
    "        i=i+1\n",
    "    return L\n",
    "\n",
    "InsertionSort([3,4,1,2,5,8,6])\n",
    "for j in range(1, 5):\n",
    "    print(j) \n",
    "            \n",
    "            "
   ]
  },
  {
   "cell_type": "markdown",
   "id": "952ef60d-74e3-45c6-9ce8-fe0cc3e5accb",
   "metadata": {},
   "source": [
    "### 3.\n",
    "\n",
    "Don't work... don't know why"
   ]
  },
  {
   "cell_type": "code",
   "execution_count": 92,
   "id": "e347967e-bd8c-43e3-bb64-4476cd5cc46b",
   "metadata": {
    "vscode": {
     "languageId": "python"
    }
   },
   "outputs": [
    {
     "ename": "AttributeError",
     "evalue": "'NoneType' object has no attribute 'extend'",
     "output_type": "error",
     "traceback": [
      "\u001b[0;31m---------------------------------------------------------------------------\u001b[0m",
      "\u001b[0;31mAttributeError\u001b[0m                            Traceback (most recent call last)",
      "Cell \u001b[0;32mIn[92], line 26\u001b[0m\n\u001b[1;32m     22\u001b[0m     L[i\u001b[38;5;241m+\u001b[39mInteger(\u001b[38;5;241m1\u001b[39m)], L[r] \u001b[38;5;241m=\u001b[39m L[r], L[i\u001b[38;5;241m+\u001b[39mInteger(\u001b[38;5;241m1\u001b[39m)]\n\u001b[1;32m     23\u001b[0m     \u001b[38;5;28;01mreturn\u001b[39;00m i\u001b[38;5;241m+\u001b[39mInteger(\u001b[38;5;241m1\u001b[39m)\n\u001b[0;32m---> 26\u001b[0m Lsorted\u001b[38;5;241m=\u001b[39m\u001b[43mQuickSort1\u001b[49m\u001b[43m(\u001b[49m\u001b[43m[\u001b[49m\u001b[43mInteger\u001b[49m\u001b[43m(\u001b[49m\u001b[38;5;241;43m3\u001b[39;49m\u001b[43m)\u001b[49m\u001b[43m,\u001b[49m\u001b[43mInteger\u001b[49m\u001b[43m(\u001b[49m\u001b[38;5;241;43m4\u001b[39;49m\u001b[43m)\u001b[49m\u001b[43m,\u001b[49m\u001b[43mInteger\u001b[49m\u001b[43m(\u001b[49m\u001b[38;5;241;43m1\u001b[39;49m\u001b[43m)\u001b[49m\u001b[43m,\u001b[49m\u001b[43mInteger\u001b[49m\u001b[43m(\u001b[49m\u001b[38;5;241;43m2\u001b[39;49m\u001b[43m)\u001b[49m\u001b[43m,\u001b[49m\u001b[43mInteger\u001b[49m\u001b[43m(\u001b[49m\u001b[38;5;241;43m5\u001b[39;49m\u001b[43m)\u001b[49m\u001b[43m,\u001b[49m\u001b[43mInteger\u001b[49m\u001b[43m(\u001b[49m\u001b[38;5;241;43m8\u001b[39;49m\u001b[43m)\u001b[49m\u001b[43m,\u001b[49m\u001b[43mInteger\u001b[49m\u001b[43m(\u001b[49m\u001b[38;5;241;43m6\u001b[39;49m\u001b[43m)\u001b[49m\u001b[43m]\u001b[49m\u001b[43m)\u001b[49m\n\u001b[1;32m     27\u001b[0m \u001b[38;5;28mprint\u001b[39m(Lsorted)\n",
      "Cell \u001b[0;32mIn[92], line 3\u001b[0m, in \u001b[0;36mQuickSort1\u001b[0;34m(L)\u001b[0m\n\u001b[1;32m      2\u001b[0m \u001b[38;5;28;01mdef\u001b[39;00m \u001b[38;5;21mQuickSort1\u001b[39m(L):\n\u001b[0;32m----> 3\u001b[0m     \u001b[38;5;28;01mreturn\u001b[39;00m \u001b[43mQuickSort\u001b[49m\u001b[43m(\u001b[49m\u001b[43mL\u001b[49m\u001b[43m,\u001b[49m\u001b[43m \u001b[49m\u001b[43mInteger\u001b[49m\u001b[43m(\u001b[49m\u001b[38;5;241;43m0\u001b[39;49m\u001b[43m)\u001b[49m\u001b[43m,\u001b[49m\u001b[43m \u001b[49m\u001b[38;5;28;43mlen\u001b[39;49m\u001b[43m(\u001b[49m\u001b[43mL\u001b[49m\u001b[43m)\u001b[49m\u001b[38;5;241;43m-\u001b[39;49m\u001b[43mInteger\u001b[49m\u001b[43m(\u001b[49m\u001b[38;5;241;43m1\u001b[39;49m\u001b[43m)\u001b[49m\u001b[43m)\u001b[49m\n",
      "Cell \u001b[0;32mIn[92], line 8\u001b[0m, in \u001b[0;36mQuickSort\u001b[0;34m(L, l, r)\u001b[0m\n\u001b[1;32m      6\u001b[0m \u001b[38;5;28;01mif\u001b[39;00m l \u001b[38;5;241m<\u001b[39m r:\n\u001b[1;32m      7\u001b[0m     q\u001b[38;5;241m=\u001b[39mPartition(L, l, r)\n\u001b[0;32m----> 8\u001b[0m     left\u001b[38;5;241m=\u001b[39m\u001b[43mQuickSort\u001b[49m\u001b[43m(\u001b[49m\u001b[43mL\u001b[49m\u001b[43m,\u001b[49m\u001b[43m \u001b[49m\u001b[43ml\u001b[49m\u001b[43m,\u001b[49m\u001b[43m \u001b[49m\u001b[43mq\u001b[49m\u001b[38;5;241;43m-\u001b[39;49m\u001b[43mInteger\u001b[49m\u001b[43m(\u001b[49m\u001b[38;5;241;43m1\u001b[39;49m\u001b[43m)\u001b[49m\u001b[43m)\u001b[49m\n\u001b[1;32m      9\u001b[0m     right\u001b[38;5;241m=\u001b[39mQuickSort(L, q\u001b[38;5;241m+\u001b[39mInteger(\u001b[38;5;241m1\u001b[39m), r)\n\u001b[1;32m     10\u001b[0m     left\u001b[38;5;241m.\u001b[39mextend(L[q])\n",
      "Cell \u001b[0;32mIn[92], line 8\u001b[0m, in \u001b[0;36mQuickSort\u001b[0;34m(L, l, r)\u001b[0m\n\u001b[1;32m      6\u001b[0m \u001b[38;5;28;01mif\u001b[39;00m l \u001b[38;5;241m<\u001b[39m r:\n\u001b[1;32m      7\u001b[0m     q\u001b[38;5;241m=\u001b[39mPartition(L, l, r)\n\u001b[0;32m----> 8\u001b[0m     left\u001b[38;5;241m=\u001b[39m\u001b[43mQuickSort\u001b[49m\u001b[43m(\u001b[49m\u001b[43mL\u001b[49m\u001b[43m,\u001b[49m\u001b[43m \u001b[49m\u001b[43ml\u001b[49m\u001b[43m,\u001b[49m\u001b[43m \u001b[49m\u001b[43mq\u001b[49m\u001b[38;5;241;43m-\u001b[39;49m\u001b[43mInteger\u001b[49m\u001b[43m(\u001b[49m\u001b[38;5;241;43m1\u001b[39;49m\u001b[43m)\u001b[49m\u001b[43m)\u001b[49m\n\u001b[1;32m      9\u001b[0m     right\u001b[38;5;241m=\u001b[39mQuickSort(L, q\u001b[38;5;241m+\u001b[39mInteger(\u001b[38;5;241m1\u001b[39m), r)\n\u001b[1;32m     10\u001b[0m     left\u001b[38;5;241m.\u001b[39mextend(L[q])\n",
      "    \u001b[0;31m[... skipping similar frames: QuickSort at line 8 (2 times)]\u001b[0m\n",
      "Cell \u001b[0;32mIn[92], line 8\u001b[0m, in \u001b[0;36mQuickSort\u001b[0;34m(L, l, r)\u001b[0m\n\u001b[1;32m      6\u001b[0m \u001b[38;5;28;01mif\u001b[39;00m l \u001b[38;5;241m<\u001b[39m r:\n\u001b[1;32m      7\u001b[0m     q\u001b[38;5;241m=\u001b[39mPartition(L, l, r)\n\u001b[0;32m----> 8\u001b[0m     left\u001b[38;5;241m=\u001b[39m\u001b[43mQuickSort\u001b[49m\u001b[43m(\u001b[49m\u001b[43mL\u001b[49m\u001b[43m,\u001b[49m\u001b[43m \u001b[49m\u001b[43ml\u001b[49m\u001b[43m,\u001b[49m\u001b[43m \u001b[49m\u001b[43mq\u001b[49m\u001b[38;5;241;43m-\u001b[39;49m\u001b[43mInteger\u001b[49m\u001b[43m(\u001b[49m\u001b[38;5;241;43m1\u001b[39;49m\u001b[43m)\u001b[49m\u001b[43m)\u001b[49m\n\u001b[1;32m      9\u001b[0m     right\u001b[38;5;241m=\u001b[39mQuickSort(L, q\u001b[38;5;241m+\u001b[39mInteger(\u001b[38;5;241m1\u001b[39m), r)\n\u001b[1;32m     10\u001b[0m     left\u001b[38;5;241m.\u001b[39mextend(L[q])\n",
      "Cell \u001b[0;32mIn[92], line 10\u001b[0m, in \u001b[0;36mQuickSort\u001b[0;34m(L, l, r)\u001b[0m\n\u001b[1;32m      8\u001b[0m left\u001b[38;5;241m=\u001b[39mQuickSort(L, l, q\u001b[38;5;241m-\u001b[39mInteger(\u001b[38;5;241m1\u001b[39m))\n\u001b[1;32m      9\u001b[0m right\u001b[38;5;241m=\u001b[39mQuickSort(L, q\u001b[38;5;241m+\u001b[39mInteger(\u001b[38;5;241m1\u001b[39m), r)\n\u001b[0;32m---> 10\u001b[0m \u001b[43mleft\u001b[49m\u001b[38;5;241;43m.\u001b[39;49m\u001b[43mextend\u001b[49m(L[q])\n\u001b[1;32m     11\u001b[0m \u001b[38;5;28;01mreturn\u001b[39;00m  L1 \u001b[38;5;241m+\u001b[39m L2\n",
      "\u001b[0;31mAttributeError\u001b[0m: 'NoneType' object has no attribute 'extend'"
     ]
    }
   ],
   "source": [
    "def QuickSort1(L):\n",
    "    return QuickSort(L, 0, len(L)-1)\n",
    "\n",
    "def QuickSort(L, l, r):\n",
    "    if l < r:\n",
    "        q=Partition(L, l, r)\n",
    "        left=QuickSort(L, l, q-1)\n",
    "        right=QuickSort(L, q+1, r)\n",
    "        left.extend(L[q])\n",
    "        return  L1 + L2\n",
    "        \n",
    "    \n",
    "\n",
    "def Partition(L, l, r):\n",
    "    p = L[r]\n",
    "    i = l-1\n",
    "    for j in range (l, r):\n",
    "        if L[j] <= p:\n",
    "            i=i+1\n",
    "            L[i+1], L[j] = L[j], L[i+1]\n",
    "    L[i+1], L[r] = L[r], L[i+1]\n",
    "    return i+1\n",
    "    \n",
    "\n",
    "Lsorted=QuickSort1([3,4,1,2,5,8,6])\n",
    "print(Lsorted)"
   ]
  },
  {
   "cell_type": "code",
   "execution_count": null,
   "id": "6408e40f-1cc6-44e7-9ac9-6aedc9a9efbc",
   "metadata": {
    "vscode": {
     "languageId": "python"
    }
   },
   "outputs": [],
   "source": []
  },
  {
   "cell_type": "markdown",
   "id": "726b08ed",
   "metadata": {},
   "source": [
    "## Exercice 4:\n",
    "\n",
    "### 1.a) :\n",
    "\n",
    "For each $u_n$ we need to use the 4 previous ones, and so on recursively so we do $4^n$ operations.\n",
    "\n",
    "### 1.b) :\n"
   ]
  },
  {
   "cell_type": "code",
   "execution_count": 35,
   "id": "d69ee34e",
   "metadata": {
    "vscode": {
     "languageId": "python"
    }
   },
   "outputs": [
    {
     "name": "stdout",
     "output_type": "stream",
     "text": [
      "[0, 0, 0, 1, 1, 4, 6, 15, 27, 58, 112, 229, 453, 912, 1818, 3643, 7279, 14566, 29124, 58257, 116505, 233020, 466030, 932071, 1864131, 3728274]\n"
     ]
    }
   ],
   "source": [
    "def u(n):\n",
    "    if n<=2:\n",
    "        return(0)\n",
    "    if n==3:\n",
    "        return(1)\n",
    "    return(u(n-1)+3*u(n-2)-u(n-3)-2*u(n-4))\n",
    "\n",
    "print([u(n) for n in range (26)])"
   ]
  },
  {
   "cell_type": "code",
   "execution_count": null,
   "id": "b31e0b30",
   "metadata": {
    "vscode": {
     "languageId": "python"
    }
   },
   "outputs": [],
   "source": []
  },
  {
   "cell_type": "markdown",
   "id": "2abfe7b3",
   "metadata": {},
   "source": [
    "### 2.a) :\n",
    "\n",
    "This time we only set 3 variables at the begining then we do a \"for\" n-3 times so the complexity is $O(n)$\n",
    "\n",
    "### 2.b)"
   ]
  },
  {
   "cell_type": "code",
   "execution_count": 42,
   "id": "d3b0fbd1",
   "metadata": {
    "vscode": {
     "languageId": "python"
    }
   },
   "outputs": [],
   "source": [
    "def u_it(n):\n",
    "    u0=0;u1=0;u2=0;u3=1\n",
    "    if n<=2:\n",
    "        return(0)\n",
    "    if n==3:\n",
    "        return(3)\n",
    "    for i in range(n-3):\n",
    "        u0,u1,u2,u3 = u1,u2,u3,u3+3*u2-u1-2*u0\n",
    "    return(u3)"
   ]
  },
  {
   "cell_type": "markdown",
   "id": "53948df8",
   "metadata": {},
   "source": [
    "### 2.c)\n",
    "\n",
    "I made it for 25 not 10000 so that we can use it on the non recursive one also without crashing the machine..."
   ]
  },
  {
   "cell_type": "code",
   "execution_count": 68,
   "id": "05dbc27f",
   "metadata": {
    "vscode": {
     "languageId": "python"
    }
   },
   "outputs": [
    {
     "name": "stdout",
     "output_type": "stream",
     "text": [
      "3728274\n",
      "the iterative makes 0.0010809999999992215 seconds\n",
      "3728274\n",
      "the non-iterative makes 3.422536999999977 seconds\n"
     ]
    }
   ],
   "source": [
    "t=cputime()\n",
    "print(u_it(25))\n",
    "print(\"the iterative makes\",cputime()-t, \"seconds\")\n",
    "t=cputime()\n",
    "print(u(25))\n",
    "print(\"the non-iterative makes\",cputime()-t, \"seconds\")\n",
    "\n"
   ]
  },
  {
   "cell_type": "markdown",
   "id": "0e7c02f7",
   "metadata": {},
   "source": [
    "### 3.a)\n",
    "\n",
    "Don't know how to do that sorry :(\n",
    "\n",
    "### 3.b)\n",
    "\n",
    "I don't know where but there is obviously a problem"
   ]
  },
  {
   "cell_type": "code",
   "execution_count": 76,
   "id": "b83bcfa6",
   "metadata": {
    "vscode": {
     "languageId": "python"
    }
   },
   "outputs": [
    {
     "data": {
      "text/plain": [
       "[ -54  -57   54   58]\n",
       "[-116 -112  117  112]\n",
       "[-224 -228  224  229]\n",
       "[-458 -453  459  453]"
      ]
     },
     "execution_count": 76,
     "metadata": {},
     "output_type": "execute_result"
    }
   ],
   "source": [
    "def exp_binary(A,n):\n",
    "    if n==0:\n",
    "        return(-1)\n",
    "    if n==1:\n",
    "        return A\n",
    "\n",
    "\n",
    "    if n%2==0:\n",
    "        return(exp_binary(A, n/2)**2)\n",
    "    else:\n",
    "        k=(n-1)//2\n",
    "        return(A*exp_binary(A, k))\n",
    "\n",
    "A= companion_matrix([2,1,-3,-1,1], format='bottom')\n",
    "U=vector([0,0,0,1])\n",
    "exp_binary(A,25)\n"
   ]
  },
  {
   "cell_type": "markdown",
   "id": "997bd87e",
   "metadata": {},
   "source": [
    "### 3.c)"
   ]
  },
  {
   "cell_type": "code",
   "execution_count": 78,
   "id": "55925253",
   "metadata": {
    "vscode": {
     "languageId": "python"
    }
   },
   "outputs": [
    {
     "name": "stdout",
     "output_type": "stream",
     "text": [
      "(58, 112, 229, 453)\n"
     ]
    }
   ],
   "source": [
    "def u_mat(n):\n",
    "    B=exp_binary(A,n)*U\n",
    "    return(B)\n",
    "\n",
    "print(u_mat(25))\n"
   ]
  },
  {
   "cell_type": "markdown",
   "id": "aa89442a",
   "metadata": {},
   "source": [
    "### 4.\n",
    "\n",
    "Worthless as long as I have an issue with my matricial resolution"
   ]
  },
  {
   "cell_type": "code",
   "execution_count": 80,
   "id": "5882c240",
   "metadata": {
    "vscode": {
     "languageId": "python"
    }
   },
   "outputs": [
    {
     "data": {
      "image/png": "[encoded data removed]",
      "text/plain": [
       "Graphics object consisting of 2 graphics primitives"
      ]
     },
     "execution_count": 80,
     "metadata": {},
     "output_type": "execute_result"
    }
   ],
   "source": [
    "Time_it=[]\n",
    "for n in range (1, 10001, 10):\n",
    "    temps=cputime()\n",
    "    u_it(n)\n",
    "    temps=cputime()-temps\n",
    "    Time_it = Time_it + [[n,temps]]\n",
    "\n",
    "P_it = line(Time_it)\n",
    "\n",
    "Time_mat=[]\n",
    "for n in range (1, 10001, 10):\n",
    "    temps=cputime()\n",
    "    u_mat(n)\n",
    "    temps=cputime()-temps\n",
    "    Time_mat = Time_mat + [[n,temps]]\n",
    "\n",
    "P_mat = line(Time_mat, color='red')\n",
    "P_mat + P_it\n",
    "\n"
   ]
  },
  {
   "cell_type": "markdown",
   "id": "2e5b6cb0",
   "metadata": {},
   "source": [
    "## Exercice 5 :\n",
    "\n"
   ]
  },
  {
   "cell_type": "code",
   "execution_count": 83,
   "id": "ed1c57a0",
   "metadata": {
    "vscode": {
     "languageId": "python"
    }
   },
   "outputs": [],
   "source": [
    "def minimal_element(list):\n",
    "    result = list[0]\n",
    "    for i in range(1, len(list)):\n",
    "        result = list[i]\n",
    "    return result\n"
   ]
  },
  {
   "cell_type": "code",
   "execution_count": 86,
   "id": "013d36fd",
   "metadata": {
    "vscode": {
     "languageId": "python"
    }
   },
   "outputs": [
    {
     "data": {
      "image/png": "[encoded data removed]",
      "text/plain": [
       "Graphics object consisting of 1 graphics primitive"
      ]
     },
     "execution_count": 86,
     "metadata": {},
     "output_type": "execute_result"
    }
   ],
   "source": [
    "Time=[]\n",
    "for n in range(10**4, 10**6+1, 10**4):\n",
    "    list=[ZZ.random_element() for i in range(n)]\n",
    "    temps=cputime()\n",
    "    minimal_element(list)\n",
    "    temps=cputime()-temps\n",
    "    Time = Time + [[n,temps]]\n",
    "\n",
    "P = line(Time)\n",
    "P"
   ]
  },
  {
   "cell_type": "code",
   "execution_count": null,
   "id": "6c17577a",
   "metadata": {
    "vscode": {
     "languageId": "python"
    }
   },
   "outputs": [],
   "source": []
  }
 ],
 "metadata": {
  "kernelspec": {
   "display_name": "SageMath 10.4",
   "language": "sage",
   "name": "sagemath"
  },
  "language_info": {
   "codemirror_mode": {
    "name": "ipython",
    "version": 3
   },
   "file_extension": ".py",
   "mimetype": "text/x-python",
   "name": "sage",
   "nbconvert_exporter": "python",
   "pygments_lexer": "ipython3",
   "version": "3.9.20"
  }
 },
 "nbformat": 4,
 "nbformat_minor": 5
}

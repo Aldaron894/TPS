{
 "cells": [
  {
   "cell_type": "markdown",
   "id": "5ca9ec79-4a8a-4e97-9055-bbad66a8fa34",
   "metadata": {},
   "source": [
    "## Exercice 1:"
   ]
  },
  {
   "cell_type": "code",
   "execution_count": 3,
   "id": "cc5216c9-e4a1-401c-ba6e-25a46a8f30ae",
   "metadata": {},
   "outputs": [],
   "source": [
    "R.<x> = PolynomialRing(ZZ)\n",
    "\n",
    "\n",
    "def mult_karatstuba(p, q):\n",
    "   \n",
    "    if p.degree() == 0:\n",
    "        return p * q\n",
    "    if q.degree() == 0:\n",
    "        return p * q\n",
    "    if p.degree() == 1 and q.degree() == 1:\n",
    "        return p * q\n",
    "\n",
    "   \n",
    "    n = max(p.degree(), q.degree()) // 2\n",
    "\n",
    "    \n",
    "    p_low, p_high = p.polynomial_division(x^n)\n",
    "    q_low, q_high = q.polynomial_division(x^n)\n",
    "\n",
    "    \n",
    "    z0 = karatsuba_poly(p_low, q_low)\n",
    "    z2 = karatsuba_poly(p_high, q_high)\n",
    "    z1 = karatsuba_poly(p_low + p_high, q_low + q_high) - z0 - z2\n",
    "\n",
    "    \n",
    "    return z2 * x^(2 * n) + z1 * x^n + z0\n",
    "\n",
    "\n"
   ]
  },
  {
   "cell_type": "markdown",
   "id": "94b34db6-d718-4593-8bf9-8777a2544e46",
   "metadata": {},
   "source": [
    "## Exercice 2 : \n",
    "\n",
    "### 1.\n"
   ]
  },
  {
   "cell_type": "code",
   "execution_count": 4,
   "id": "4c1ce718-82c0-43e9-9a28-6c11492c8f03",
   "metadata": {},
   "outputs": [],
   "source": [
    "def DFT(f, n, omega):\n",
    "\n",
    "    coeffs = f.list()\n",
    "    coeffs += [0] * (n - len(coeffs))  \n",
    "  \n",
    "    dft_result = []\n",
    "    \n",
    "\n",
    "    for k in range(n):\n",
    "        dft_sum = sum(coeffs[j] * omega^(j * k) for j in range(n))\n",
    "        dft_result.append(dft_sum)\n",
    "        \n",
    "    return dft_result\n",
    "\n"
   ]
  },
  {
   "cell_type": "markdown",
   "id": "06dd54d5-18b6-490d-8f9e-87b92a546b7a",
   "metadata": {},
   "source": [
    "### 2.\n"
   ]
  },
  {
   "cell_type": "code",
   "execution_count": null,
   "id": "0657fe0a-14a3-4802-857c-7bfc655aaa83",
   "metadata": {},
   "outputs": [],
   "source": []
  }
 ],
 "metadata": {
  "kernelspec": {
   "display_name": "SageMath 10.4",
   "language": "sage",
   "name": "sagemath"
  },
  "language_info": {
   "codemirror_mode": {
    "name": "ipython",
    "version": 3
   },
   "file_extension": ".py",
   "mimetype": "text/x-python",
   "name": "python",
   "nbconvert_exporter": "python",
   "pygments_lexer": "ipython3",
   "version": "3.9.20"
  }
 },
 "nbformat": 4,
 "nbformat_minor": 5
}

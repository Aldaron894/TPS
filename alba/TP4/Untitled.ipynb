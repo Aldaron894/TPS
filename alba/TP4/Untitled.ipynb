{
 "cells": [
  {
   "cell_type": "markdown",
   "id": "9cd045d0-27fb-4127-89fd-8ae57a728707",
   "metadata": {},
   "source": [
    "## Exercice 1 :\n",
    "\n",
    "### 1."
   ]
  },
  {
   "cell_type": "code",
   "execution_count": 5,
   "id": "fbd4feda-d68c-41b6-a420-7c019cda4327",
   "metadata": {},
   "outputs": [],
   "source": [
    "def euclidean_division(f, g):\n",
    "    \n",
    "    q = 0\n",
    "    r = f \n",
    "    \n",
    "    \n",
    "    leading_g = g.leading_coefficient()\n",
    "    degree_g = g.degree()\n",
    "    \n",
    "    \n",
    "    while r.degree() >= g.degree() and r != 0:\n",
    "        \n",
    "        leading_r = r.leading_coefficient()\n",
    "        degree_r = r.degree()\n",
    "        \n",
    "        \n",
    "        term = (leading_r / leading_g) * r.parent().gen()**(degree_r - degree_g)\n",
    "        \n",
    "       \n",
    "        q += term\n",
    "        r -= term * g      \n",
    "    return q, r\n",
    "\n"
   ]
  },
  {
   "cell_type": "markdown",
   "id": "10e31fa8-4864-41ad-8795-fb4f5da602d4",
   "metadata": {},
   "source": [
    "### 2."
   ]
  },
  {
   "cell_type": "code",
   "execution_count": 10,
   "id": "6993869e-67c6-42d7-bff9-d7c1f9873a4a",
   "metadata": {},
   "outputs": [
    {
     "name": "stdout",
     "output_type": "stream",
     "text": [
      "(5*x^3 - 6*x^2 + 20, -39*x - 60)\n"
     ]
    },
    {
     "data": {
      "text/plain": [
       "(5*x^3 - 6*x^2 + 20, -39*x - 60)"
      ]
     },
     "execution_count": 10,
     "metadata": {},
     "output_type": "execute_result"
    }
   ],
   "source": [
    "R.<x> = PolynomialRing(QQ)\n",
    "f = 5*x**5 + 4*x**4 + 3*x**3 + 2*x**2 + x\n",
    "g = x**2 + 2*x + 3\n",
    "\n",
    "print(euclidean_division(f,g))\n",
    "\n",
    "#the algorithm i wrote don't work on finite fields because of the .leading_coefficient() method...\n",
    "\n",
    "f.quo_rem(g)\n"
   ]
  },
  {
   "cell_type": "markdown",
   "id": "543144c0-7bb4-416c-92a0-0d9328605887",
   "metadata": {},
   "source": [
    "### 3."
   ]
  },
  {
   "cell_type": "markdown",
   "id": "5ba6d060-971e-4c18-86b4-8446ea97033e",
   "metadata": {},
   "source": [
    "## Exercice 2:\n",
    "### 1.\n"
   ]
  },
  {
   "cell_type": "code",
   "execution_count": 11,
   "id": "a132d160-5a91-4e5f-a45a-b2ba2fa4ffe4",
   "metadata": {},
   "outputs": [],
   "source": [
    "def reverse(f):\n",
    "    reversed_coeffs = f.list()[::-1]\n",
    "    reversed_poly = f.parent()(reversed_coeffs)  \n",
    "    return reversed_poly\n",
    "    "
   ]
  },
  {
   "cell_type": "markdown",
   "id": "96215230-49bf-4f63-a68a-34d846699345",
   "metadata": {},
   "source": [
    "### 2."
   ]
  },
  {
   "cell_type": "code",
   "execution_count": null,
   "id": "15c136ec-755f-40d8-923b-4efe46d13137",
   "metadata": {},
   "outputs": [],
   "source": [
    "def NewtonModularInverse(f):\n",
    "    "
   ]
  }
 ],
 "metadata": {
  "kernelspec": {
   "display_name": "SageMath 10.4",
   "language": "sage",
   "name": "sagemath"
  },
  "language_info": {
   "codemirror_mode": {
    "name": "ipython",
    "version": 3
   },
   "file_extension": ".py",
   "mimetype": "text/x-python",
   "name": "python",
   "nbconvert_exporter": "python",
   "pygments_lexer": "ipython3",
   "version": "3.9.20"
  }
 },
 "nbformat": 4,
 "nbformat_minor": 5
}

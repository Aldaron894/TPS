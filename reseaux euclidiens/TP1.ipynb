{
 "cells": [
  {
   "cell_type": "markdown",
   "id": "ba6d7688",
   "metadata": {},
   "source": [
    "# TP"
   ]
  },
  {
   "cell_type": "markdown",
   "id": "ae8cbc57",
   "metadata": {},
   "source": [
    "## Exercice 1 :"
   ]
  },
  {
   "cell_type": "code",
   "execution_count": 122,
   "id": "d4e18d73",
   "metadata": {},
   "outputs": [
    {
     "name": "stdout",
     "output_type": "stream",
     "text": [
      "A= [-1 -1  1 -1]\n",
      "[ 0  0 -1  0]\n",
      "[-1  0  0 -1]\n",
      "[ 0  7 -2  2]\n",
      "\n",
      "v =(-2, -370, 1, 1)\n",
      "\n",
      "w = (934, 373, 370, -935)\n",
      "\n",
      "A*w =(-2, -370, 1, 1)\n"
     ]
    },
    {
     "data": {
      "text/plain": [
       "True"
      ]
     },
     "execution_count": 122,
     "metadata": {},
     "output_type": "execute_result"
    }
   ],
   "source": [
    "A = random_matrix(ZZ, 4, 4)\n",
    "v=random_vector(ZZ, 4)\n",
    "w=A.solve_right(v)\n",
    "print(f\"A= {A}\\n\")\n",
    "print(f\"v ={v}\\n\")\n",
    "print(f\"w = {w}\\n\")\n",
    "print(f\"A*w ={A*w}\")\n",
    "\n",
    "def testreseaux(A, v):\n",
    "    if rank(A)!= len(A[0]):\n",
    "        print(\"pas possible\")\n",
    "        return False\n",
    "    w=A.solve_right(v)\n",
    "    for wi in w:\n",
    "        if wi not in ZZ:\n",
    "            return False\n",
    "    return True\n",
    "\n",
    "testreseaux(A,v)\n"
   ]
  },
  {
   "cell_type": "code",
   "execution_count": null,
   "id": "7dc210e8",
   "metadata": {},
   "outputs": [
    {
     "name": "stdout",
     "output_type": "stream",
     "text": [
      "B1 = [ -2   0  -2   3]\n",
      "[  8   0  -1  -1]\n",
      "[ -1   2   2   1]\n",
      "[  6 -11   2  -4]\n",
      "\n",
      "B2 = [  1 -11  36   1]\n",
      "[  0   2  -4   0]\n",
      "[  0   1   1   0]\n",
      "[  0  -7   0 -13] \n",
      "\n",
      "Base de la somme : [1 0 0 0]\n",
      "[0 1 0 0]\n",
      "[0 0 1 0]\n",
      "[0 0 0 1]\n"
     ]
    },
    {
     "data": {
      "text/plain": [
       "False"
      ]
     },
     "execution_count": 248,
     "metadata": {},
     "output_type": "execute_result"
    }
   ],
   "source": [
    "def basesomme(B1, B2):\n",
    "    B = B1.augment(B2)\n",
    "    (H, _) = B.transpose().echelon_form(transformation=True)\n",
    "    H.transpose()\n",
    "    n=B.nrows()\n",
    "    compteuravant0=0\n",
    "    cacaprout=0\n",
    "    while(H[compteuravant0,:] != matrix(ZZ, [0]*n)):\n",
    "        compteuravant0 += 1 + cacaprout\n",
    "    return H[:compteuravant0, :]\n",
    "\n",
    "B1=random_matrix(ZZ, 4, 4)\n",
    "B2=random_matrix(ZZ, 4, 4)\n",
    "print(f\"B1 = {B1}\\n\")\n",
    "print(f\"B2 = {B2} \\n\")\n",
    "print(f\"Base de la somme : {basesomme(B1, B2)}\")\n",
    "\n",
    "def testamour(prénom1, prénom2):\n",
    "    a = random()\n",
    "    if a > 1/2 :\n",
    "        return True\n",
    "    else:\n",
    "        return False\n",
    "\n",
    "testamour(\"baptiste\", \"nicolas\")"
   ]
  },
  {
   "cell_type": "code",
   "execution_count": 123,
   "id": "1111d38d",
   "metadata": {},
   "outputs": [],
   "source": [
    "def baseintersect(B1, B2):\n",
    "    return 0\n",
    "    "
   ]
  },
  {
   "cell_type": "code",
   "execution_count": 158,
   "id": "eb9de20a",
   "metadata": {},
   "outputs": [
    {
     "name": "stdout",
     "output_type": "stream",
     "text": [
      "b1 = (0, 3, -2, -1)\n",
      "\n",
      "b2 = (-1, 1, 0, 4)\n",
      "\n",
      "La nouvelle base est ((0, 3, -2, -1), (-1, 1, 0, 4))\n",
      "\n"
     ]
    }
   ],
   "source": [
    "def Gausslagrange(b1, b2):\n",
    "    while norm(b1)<norm(b2):\n",
    "        mu=round((b1*b2)/(norm(b1)**2))\n",
    "        u=b2-mu*b1\n",
    "        b2=b1\n",
    "        b1=u\n",
    "    return(b2, b1)\n",
    "\n",
    "b1=random_vector(ZZ, 4)\n",
    "b2=random_vector(ZZ, 4)\n",
    "print(f\"b1 = {b1}\\n\")\n",
    "print(f\"b2 = {b2}\\n\")\n",
    "print(f\"La nouvelle base est {Gausslagrange(b1, b2)}\\n\")"
   ]
  },
  {
   "cell_type": "markdown",
   "id": "6fc771f9",
   "metadata": {},
   "source": [
    "## Exercice 2\n",
    "\n",
    "### 1.\n"
   ]
  },
  {
   "cell_type": "code",
   "execution_count": 252,
   "id": "43c6e727",
   "metadata": {},
   "outputs": [],
   "source": [
    "def sizereduction(B):\n",
    "    Bgm = B.gram_schmidt()\n",
    "    n=B.nrows()\n",
    "    for i in range(2, n+1):\n",
    "        for j in range(1, i):\n",
    "            k=i-j\n",
    "            mu=(B[i]*Bgm[k]/norm(Bgm[k])**2)\n",
    "            B[i]=B[i]-round(mu)*B(k)\n",
    "    return B\n",
    "\n"
   ]
  }
 ],
 "metadata": {
  "kernelspec": {
   "display_name": "SageMath 10.4",
   "language": "sage",
   "name": "sagemath"
  },
  "language_info": {
   "codemirror_mode": {
    "name": "ipython",
    "version": 3
   },
   "file_extension": ".py",
   "mimetype": "text/x-python",
   "name": "sage",
   "nbconvert_exporter": "python",
   "pygments_lexer": "ipython3",
   "version": "3.9.21"
  }
 },
 "nbformat": 4,
 "nbformat_minor": 5
}

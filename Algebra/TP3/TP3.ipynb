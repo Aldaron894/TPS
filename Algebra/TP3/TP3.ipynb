{
 "cells": [
  {
   "cell_type": "markdown",
   "id": "5344b859-7c80-4647-a458-7c71842feb8a",
   "metadata": {},
   "source": [
    "#  Détermination du polyôme minimal dans une extension de corps\n",
    "## "
   ]
  },
  {
   "cell_type": "code",
   "execution_count": 29,
   "id": "73da4377-ab82-4bd4-a3c5-ef72b86001e6",
   "metadata": {},
   "outputs": [
    {
     "name": "stdout",
     "output_type": "stream",
     "text": [
      "2\n",
      "1/3*a^8 - 1/3*a^6 + 1/3*a^4 - 1/3*a^2 + 1/3\n"
     ]
    }
   ],
   "source": [
    "QQX.<X>=PolynomialRing(QQ)\n",
    "n = 10\n",
    "f = X**n - 2\n",
    "K.<a>=QQ.extension(f)\n",
    "c=1/(a**2+1)\n",
    "print(a**n)\n",
    "print(c)"
   ]
  },
  {
   "cell_type": "markdown",
   "id": "e60eb7a2-4c31-4a7d-84bf-e018c380acff",
   "metadata": {},
   "source": [
    "## "
   ]
  },
  {
   "cell_type": "code",
   "execution_count": 32,
   "id": "b630a5f4-f2b9-4e1d-afd3-e55cde8c0f17",
   "metadata": {},
   "outputs": [
    {
     "name": "stdout",
     "output_type": "stream",
     "text": [
      "O:n devrait trouver : X^10 - 30*X^9 - 1847135*X^8 - 545477280*X^7 + 324323995070*X^6 - 30732401824776*X^5 - 433009056432430*X^4 - 1834659266117280*X^3 + 21867211962865*X^2 - 275651917530*X + 1 \n",
      "\n",
      "X^10 - 30*X^9 - 1847135*X^8 - 545477280*X^7 + 324323995070*X^6 - 30732401824776*X^5 - 433009056432430*X^4 - 1834659266117280*X^3 + 21867211962865*X^2 - 275651917530*X + 1\n"
     ]
    }
   ],
   "source": [
    "b = (a+1)**n \n",
    "print(\"O:n devrait trouver :\",b.minpoly(X),\"\\n\")\n",
    "b_list = b.list()\n",
    "B=Matrix([(b**i).list() for i in range(10)]).transpose()\n",
    "u = B.solve_right(vector(b**n))\n",
    "polmin=X**n - QQX(u.list()) \n",
    "print(polmin)\n",
    "\n"
   ]
  },
  {
   "cell_type": "markdown",
   "id": "7d8aaf6c-32f7-4838-b5f5-d626c8a70828",
   "metadata": {},
   "source": [
    "## "
   ]
  },
  {
   "cell_type": "code",
   "execution_count": 36,
   "id": "fea53b65-e82f-4871-a253-a7d967f1c75f",
   "metadata": {},
   "outputs": [
    {
     "name": "stdout",
     "output_type": "stream",
     "text": [
      "O:n devrait trouver : X^5 - 5/3*X^4 + 10/3*X^3 - 10/3*X^2 + 5/3*X - 1/3 \n",
      "\n",
      "X^5 - 5/3*X^4 + 10/3*X^3 - 10/3*X^2 + 5/3*X - 1/3\n"
     ]
    }
   ],
   "source": [
    "print(\"O:n devrait trouver :\",c.minpoly(X),\"\\n\")\n",
    "B=Matrix([(c**i).list() for i in range(5)]).transpose()\n",
    "u = B.solve_right(vector(c**5))\n",
    "polmin=X**5 - QQX(u.list()) \n",
    "print(polmin)\n",
    "\n",
    "# on a du remplacer 10 par 5 pour pas avoir un truc réductible"
   ]
  },
  {
   "cell_type": "markdown",
   "id": "7a2b7147-2281-43df-8bf3-e0f07502f13f",
   "metadata": {},
   "source": [
    "##"
   ]
  },
  {
   "cell_type": "code",
   "execution_count": 47,
   "id": "c1287d7c-fc85-43d4-803b-0b56f6d26d38",
   "metadata": {},
   "outputs": [],
   "source": [
    "def mon_minpoly(u):\n",
    "    pasbon = True\n",
    "    k=1\n",
    "    while (pasbon == True):\n",
    "        B=Matrix([(u**i).list() for i in range(k)]).transpose()\n",
    "        try :\n",
    "            v = B.solve_right(vector(u**k))\n",
    "        except ValueError:\n",
    "            k+=1\n",
    "        else :\n",
    "            polmin=X**k - QQX(v.list())  \n",
    "            return(polmin)"
   ]
  },
  {
   "cell_type": "code",
   "execution_count": 48,
   "id": "e72d42f1-cc98-4f38-bc9d-96b302e7a39e",
   "metadata": {},
   "outputs": [
    {
     "data": {
      "text/plain": [
       "X^5 - 5/3*X^4 + 10/3*X^3 - 10/3*X^2 + 5/3*X - 1/3"
      ]
     },
     "execution_count": 48,
     "metadata": {},
     "output_type": "execute_result"
    }
   ],
   "source": [
    "mon_minpoly(c)"
   ]
  },
  {
   "cell_type": "markdown",
   "id": "1ff0df0d-df20-4efa-8dbc-428a1b1eb5f0",
   "metadata": {},
   "source": [
    "# Construction de corps finis\n",
    "\n",
    "##"
   ]
  },
  {
   "cell_type": "code",
   "execution_count": 72,
   "id": "24bdeaa9-7d53-4411-9815-6bad3a041230",
   "metadata": {},
   "outputs": [
    {
     "name": "stdout",
     "output_type": "stream",
     "text": [
      "X^100 + X^99 + 6*X^97 + 4*X^96 + X^95 + 5*X^94 + 5*X^92 + 4*X^91 + 5*X^90 + 2*X^89 + 6*X^88 + 3*X^87 + 4*X^86 + 3*X^85 + 4*X^83 + 5*X^81 + 4*X^80 + 5*X^79 + 6*X^78 + X^75 + 4*X^74 + 5*X^73 + 5*X^72 + 2*X^71 + 2*X^70 + 3*X^69 + 2*X^68 + X^66 + 3*X^65 + 4*X^64 + 5*X^63 + 4*X^62 + 4*X^61 + 5*X^60 + 4*X^59 + 5*X^58 + 2*X^57 + 4*X^56 + 5*X^55 + 5*X^54 + 5*X^53 + 4*X^52 + 4*X^51 + X^50 + 5*X^49 + 3*X^48 + 3*X^47 + 3*X^46 + X^45 + X^44 + X^42 + 4*X^40 + 5*X^38 + 6*X^37 + 3*X^35 + X^34 + 5*X^33 + 4*X^32 + 3*X^31 + X^30 + 4*X^29 + 6*X^28 + 4*X^27 + 5*X^26 + X^25 + 6*X^24 + X^23 + 4*X^22 + 4*X^21 + 5*X^20 + 2*X^19 + 3*X^18 + 6*X^17 + 6*X^16 + 5*X^15 + X^14 + 6*X^12 + 5*X^11 + 5*X^10 + 4*X^9 + 4*X^8 + 6*X^7 + X^6 + X^5 + 6*X^4 + 5*X^3 + X^2 + 5*X + 6  en  88  iterations\n"
     ]
    }
   ],
   "source": [
    "F7X.<X>=PolynomialRing(GF(7))\n",
    "i=0\n",
    "while(True):\n",
    "    i+=1\n",
    "    f=F7X.random_element(100)\n",
    "    if (f.is_irreducible()):\n",
    "        break\n",
    "    \n",
    "print(f, \" en \", i, \" iterations\")"
   ]
  },
  {
   "cell_type": "markdown",
   "id": "a8c0be92-e527-4cdd-9f17-59daaa3f8969",
   "metadata": {},
   "source": [
    "##"
   ]
  },
  {
   "cell_type": "code",
   "execution_count": 73,
   "id": "a95671e0-e8cc-4d22-a260-471dc7011afd",
   "metadata": {},
   "outputs": [
    {
     "name": "stdout",
     "output_type": "stream",
     "text": [
      "l'ordre multiplicatif de a est : 1078158836541585997114882589700072270285734399634875133644631777130563819878976020000 et l'indice du groupe cyclique <a> est 1078158836541585997114882589700072270285734399634875133644631777130563819878976020000 aussi\n"
     ]
    }
   ],
   "source": [
    "K.<a>=(GF(7)).extension(f)\n",
    "ordre = a.multiplicative_order()\n",
    "print(f\"l'ordre multiplicatif de a est : {ordre} et l'indice du groupe cyclique <a> est {ordre} aussi\") "
   ]
  },
  {
   "cell_type": "markdown",
   "id": "0123d25a-578a-4287-b898-a4164ed602a1",
   "metadata": {},
   "source": [
    "##"
   ]
  },
  {
   "cell_type": "code",
   "execution_count": 87,
   "id": "272ceccf-43f8-4880-9006-a4d7cd3e7644",
   "metadata": {},
   "outputs": [],
   "source": [
    "def corps_fini(p, n):\n",
    "    FPX.<X>=PolynomialRing(GF(p))\n",
    "    while(True):\n",
    "        f=FPX.random_element(n)\n",
    "        if (f.is_irreducible()):\n",
    "            break\n",
    "    K.<a>=(GF(p)).extension(f)\n",
    "    return (K, a)"
   ]
  },
  {
   "cell_type": "markdown",
   "id": "6d8a5c30-36f6-4d88-b11b-4f42affc1247",
   "metadata": {},
   "source": [
    "## "
   ]
  },
  {
   "cell_type": "code",
   "execution_count": 86,
   "id": "93c5a40f-0120-4e49-82bc-e7b0ad902e75",
   "metadata": {},
   "outputs": [
    {
     "name": "stdout",
     "output_type": "stream",
     "text": [
      "Finite Field in a of size 11^300\n",
      "Finite Field in a of size 10000000019^100\n"
     ]
    }
   ],
   "source": [
    "K, a = corps_fini(11, 300)\n",
    "print(K)\n",
    "K, a = corps_fini(next_prime(10**10), 100)\n",
    "print(K)"
   ]
  },
  {
   "cell_type": "code",
   "execution_count": null,
   "id": "3aea1aa1-9649-464a-9fd5-9ec481fd68bf",
   "metadata": {},
   "outputs": [],
   "source": []
  }
 ],
 "metadata": {
  "kernelspec": {
   "display_name": "SageMath 10.4",
   "language": "sage",
   "name": "sagemath"
  },
  "language_info": {
   "codemirror_mode": {
    "name": "ipython",
    "version": 3
   },
   "file_extension": ".py",
   "mimetype": "text/x-python",
   "name": "python",
   "nbconvert_exporter": "python",
   "pygments_lexer": "ipython3",
   "version": "3.9.20"
  }
 },
 "nbformat": 4,
 "nbformat_minor": 5
}

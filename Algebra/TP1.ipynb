{
 "cells": [
  {
   "cell_type": "markdown",
   "metadata": {
    "vscode": {
     "languageId": "python"
    }
   },
   "source": [
    "## I - Echauffements\n",
    "\n",
    "### 3.\n"
   ]
  },
  {
   "cell_type": "code",
   "execution_count": 1,
   "metadata": {},
   "outputs": [],
   "source": [
    "Z15X.<X>=PolynomialRing(Integers(15))\n"
   ]
  },
  {
   "cell_type": "markdown",
   "metadata": {},
   "source": [
    "### 4. \n",
    "\n"
   ]
  },
  {
   "cell_type": "code",
   "execution_count": 2,
   "metadata": {},
   "outputs": [
    {
     "name": "stdout",
     "output_type": "stream",
     "text": [
      "PQ =  12*X + 6  est de degré : 1 PR =  0  est de degré : -1 QR =  10*X^6 + 5  est de degré :  6\n"
     ]
    }
   ],
   "source": [
    "P = 3*X -6\n",
    "Q = 5*X^3 - 1\n",
    "R = (5*X +10)^3\n",
    "\n",
    "PQ=P*Q\n",
    "PR=P*R\n",
    "QR=Q*R\n",
    "print(\"PQ = \", PQ,\" est de degré :\", PQ.degree(),\"PR = \", PR, \" est de degré :\", PR.degree(),\"QR = \",  QR, \" est de degré : \", QR.degree())\n",
    "\n"
   ]
  },
  {
   "cell_type": "markdown",
   "metadata": {},
   "source": []
  },
  {
   "cell_type": "markdown",
   "metadata": {},
   "source": [
    "### 5."
   ]
  },
  {
   "cell_type": "code",
   "execution_count": 3,
   "metadata": {},
   "outputs": [
    {
     "data": {
      "text/plain": [
       "15"
      ]
     },
     "execution_count": 3,
     "metadata": {},
     "output_type": "execute_result"
    }
   ],
   "source": [
    "Z15X.characteristic()"
   ]
  },
  {
   "cell_type": "markdown",
   "metadata": {},
   "source": [
    "### 6.\n",
    "\n",
    "Comme vu dessous l'anneau n'est pas intègre."
   ]
  },
  {
   "cell_type": "code",
   "execution_count": 4,
   "metadata": {},
   "outputs": [
    {
     "data": {
      "text/plain": [
       "False"
      ]
     },
     "execution_count": 4,
     "metadata": {},
     "output_type": "execute_result"
    }
   ],
   "source": [
    "Z15X.is_integral_domain()"
   ]
  },
  {
   "cell_type": "markdown",
   "metadata": {},
   "source": []
  },
  {
   "cell_type": "markdown",
   "metadata": {},
   "source": [
    "### 7."
   ]
  },
  {
   "cell_type": "code",
   "execution_count": 5,
   "metadata": {},
   "outputs": [
    {
     "ename": "AttributeError",
     "evalue": "'sage.rings.polynomial.polynomial_zmod_flint.Polynomial_zmod_flint' object has no attribute 'is_irreductible'",
     "output_type": "error",
     "traceback": [
      "\u001b[0;31m---------------------------------------------------------------------------\u001b[0m",
      "\u001b[0;31mAttributeError\u001b[0m                            Traceback (most recent call last)",
      "Cell \u001b[0;32mIn[5], line 1\u001b[0m\n\u001b[0;32m----> 1\u001b[0m \u001b[43mQ\u001b[49m\u001b[38;5;241;43m.\u001b[39;49m\u001b[43mis_irreductible\u001b[49m()\n",
      "File \u001b[0;32m~/miniforge3/envs/sage/lib/python3.9/site-packages/sage/structure/element.pyx:495\u001b[0m, in \u001b[0;36msage.structure.element.Element.__getattr__ (build/cythonized/sage/structure/element.c:11827)\u001b[0;34m()\u001b[0m\n\u001b[1;32m    493\u001b[0m         AttributeError: 'LeftZeroSemigroup_with_category.element_class' object has no attribute 'blah_blah'...\n\u001b[1;32m    494\u001b[0m     \"\"\"\n\u001b[0;32m--> 495\u001b[0m     return self.getattr_from_category(name)\n\u001b[1;32m    496\u001b[0m \n\u001b[1;32m    497\u001b[0m cdef getattr_from_category(self, name):\n",
      "File \u001b[0;32m~/miniforge3/envs/sage/lib/python3.9/site-packages/sage/structure/element.pyx:508\u001b[0m, in \u001b[0;36msage.structure.element.Element.getattr_from_category (build/cythonized/sage/structure/element.c:11937)\u001b[0;34m()\u001b[0m\n\u001b[1;32m    506\u001b[0m     else:\n\u001b[1;32m    507\u001b[0m         cls = P._abstract_element_class\n\u001b[0;32m--> 508\u001b[0m     return getattr_from_other_class(self, cls, name)\n\u001b[1;32m    509\u001b[0m \n\u001b[1;32m    510\u001b[0m def __dir__(self):\n",
      "File \u001b[0;32m~/miniforge3/envs/sage/lib/python3.9/site-packages/sage/cpython/getattr.pyx:363\u001b[0m, in \u001b[0;36msage.cpython.getattr.getattr_from_other_class (build/cythonized/sage/cpython/getattr.c:4461)\u001b[0;34m()\u001b[0m\n\u001b[1;32m    361\u001b[0m     dummy_error_message.cls = type(self)\n\u001b[1;32m    362\u001b[0m     dummy_error_message.name = name\n\u001b[0;32m--> 363\u001b[0m     raise AttributeError(dummy_error_message)\n\u001b[1;32m    364\u001b[0m attribute = <object>attr\n\u001b[1;32m    365\u001b[0m # Check for a descriptor (__get__ in Python)\n",
      "\u001b[0;31mAttributeError\u001b[0m: 'sage.rings.polynomial.polynomial_zmod_flint.Polynomial_zmod_flint' object has no attribute 'is_irreductible'"
     ]
    }
   ],
   "source": [
    "Q.is_irreductible()"
   ]
  },
  {
   "cell_type": "markdown",
   "metadata": {},
   "source": [
    "## II - Polynômes symétriques \n",
    "\n",
    "### 1. Construire les polynômes symétriques élémentaires\n",
    "\n",
    "#### 2.\n",
    "\n"
   ]
  },
  {
   "cell_type": "code",
   "execution_count": 7,
   "metadata": {},
   "outputs": [
    {
     "name": "stdout",
     "output_type": "stream",
     "text": [
      "[1, t0 + t1 + t2 + t3 + t4 + t5 + t6 + t7 + t8, t0*t1 + t0*t2 + t1*t2 + t0*t3 + t1*t3 + t2*t3 + t0*t4 + t1*t4 + t2*t4 + t3*t4 + t0*t5 + t1*t5 + t2*t5 + t3*t5 + t4*t5 + t0*t6 + t1*t6 + t2*t6 + t3*t6 + t4*t6 + t5*t6 + t0*t7 + t1*t7 + t2*t7 + t3*t7 + t4*t7 + t5*t7 + t6*t7 + t0*t8 + t1*t8 + t2*t8 + t3*t8 + t4*t8 + t5*t8 + t6*t8 + t7*t8, t0*t1*t2 + t0*t1*t3 + t0*t2*t3 + t1*t2*t3 + t0*t1*t4 + t0*t2*t4 + t1*t2*t4 + t0*t3*t4 + t1*t3*t4 + t2*t3*t4 + t0*t1*t5 + t0*t2*t5 + t1*t2*t5 + t0*t3*t5 + t1*t3*t5 + t2*t3*t5 + t0*t4*t5 + t1*t4*t5 + t2*t4*t5 + t3*t4*t5 + t0*t1*t6 + t0*t2*t6 + t1*t2*t6 + t0*t3*t6 + t1*t3*t6 + t2*t3*t6 + t0*t4*t6 + t1*t4*t6 + t2*t4*t6 + t3*t4*t6 + t0*t5*t6 + t1*t5*t6 + t2*t5*t6 + t3*t5*t6 + t4*t5*t6 + t0*t1*t7 + t0*t2*t7 + t1*t2*t7 + t0*t3*t7 + t1*t3*t7 + t2*t3*t7 + t0*t4*t7 + t1*t4*t7 + t2*t4*t7 + t3*t4*t7 + t0*t5*t7 + t1*t5*t7 + t2*t5*t7 + t3*t5*t7 + t4*t5*t7 + t0*t6*t7 + t1*t6*t7 + t2*t6*t7 + t3*t6*t7 + t4*t6*t7 + t5*t6*t7 + t0*t1*t8 + t0*t2*t8 + t1*t2*t8 + t0*t3*t8 + t1*t3*t8 + t2*t3*t8 + t0*t4*t8 + t1*t4*t8 + t2*t4*t8 + t3*t4*t8 + t0*t5*t8 + t1*t5*t8 + t2*t5*t8 + t3*t5*t8 + t4*t5*t8 + t0*t6*t8 + t1*t6*t8 + t2*t6*t8 + t3*t6*t8 + t4*t6*t8 + t5*t6*t8 + t0*t7*t8 + t1*t7*t8 + t2*t7*t8 + t3*t7*t8 + t4*t7*t8 + t5*t7*t8 + t6*t7*t8, t0*t1*t2*t3 + t0*t1*t2*t4 + t0*t1*t3*t4 + t0*t2*t3*t4 + t1*t2*t3*t4 + t0*t1*t2*t5 + t0*t1*t3*t5 + t0*t2*t3*t5 + t1*t2*t3*t5 + t0*t1*t4*t5 + t0*t2*t4*t5 + t1*t2*t4*t5 + t0*t3*t4*t5 + t1*t3*t4*t5 + t2*t3*t4*t5 + t0*t1*t2*t6 + t0*t1*t3*t6 + t0*t2*t3*t6 + t1*t2*t3*t6 + t0*t1*t4*t6 + t0*t2*t4*t6 + t1*t2*t4*t6 + t0*t3*t4*t6 + t1*t3*t4*t6 + t2*t3*t4*t6 + t0*t1*t5*t6 + t0*t2*t5*t6 + t1*t2*t5*t6 + t0*t3*t5*t6 + t1*t3*t5*t6 + t2*t3*t5*t6 + t0*t4*t5*t6 + t1*t4*t5*t6 + t2*t4*t5*t6 + t3*t4*t5*t6 + t0*t1*t2*t7 + t0*t1*t3*t7 + t0*t2*t3*t7 + t1*t2*t3*t7 + t0*t1*t4*t7 + t0*t2*t4*t7 + t1*t2*t4*t7 + t0*t3*t4*t7 + t1*t3*t4*t7 + t2*t3*t4*t7 + t0*t1*t5*t7 + t0*t2*t5*t7 + t1*t2*t5*t7 + t0*t3*t5*t7 + t1*t3*t5*t7 + t2*t3*t5*t7 + t0*t4*t5*t7 + t1*t4*t5*t7 + t2*t4*t5*t7 + t3*t4*t5*t7 + t0*t1*t6*t7 + t0*t2*t6*t7 + t1*t2*t6*t7 + t0*t3*t6*t7 + t1*t3*t6*t7 + t2*t3*t6*t7 + t0*t4*t6*t7 + t1*t4*t6*t7 + t2*t4*t6*t7 + t3*t4*t6*t7 + t0*t5*t6*t7 + t1*t5*t6*t7 + t2*t5*t6*t7 + t3*t5*t6*t7 + t4*t5*t6*t7 + t0*t1*t2*t8 + t0*t1*t3*t8 + t0*t2*t3*t8 + t1*t2*t3*t8 + t0*t1*t4*t8 + t0*t2*t4*t8 + t1*t2*t4*t8 + t0*t3*t4*t8 + t1*t3*t4*t8 + t2*t3*t4*t8 + t0*t1*t5*t8 + t0*t2*t5*t8 + t1*t2*t5*t8 + t0*t3*t5*t8 + t1*t3*t5*t8 + t2*t3*t5*t8 + t0*t4*t5*t8 + t1*t4*t5*t8 + t2*t4*t5*t8 + t3*t4*t5*t8 + t0*t1*t6*t8 + t0*t2*t6*t8 + t1*t2*t6*t8 + t0*t3*t6*t8 + t1*t3*t6*t8 + t2*t3*t6*t8 + t0*t4*t6*t8 + t1*t4*t6*t8 + t2*t4*t6*t8 + t3*t4*t6*t8 + t0*t5*t6*t8 + t1*t5*t6*t8 + t2*t5*t6*t8 + t3*t5*t6*t8 + t4*t5*t6*t8 + t0*t1*t7*t8 + t0*t2*t7*t8 + t1*t2*t7*t8 + t0*t3*t7*t8 + t1*t3*t7*t8 + t2*t3*t7*t8 + t0*t4*t7*t8 + t1*t4*t7*t8 + t2*t4*t7*t8 + t3*t4*t7*t8 + t0*t5*t7*t8 + t1*t5*t7*t8 + t2*t5*t7*t8 + t3*t5*t7*t8 + t4*t5*t7*t8 + t0*t6*t7*t8 + t1*t6*t7*t8 + t2*t6*t7*t8 + t3*t6*t7*t8 + t4*t6*t7*t8 + t5*t6*t7*t8, t0*t1*t2*t3*t4 + t0*t1*t2*t3*t5 + t0*t1*t2*t4*t5 + t0*t1*t3*t4*t5 + t0*t2*t3*t4*t5 + t1*t2*t3*t4*t5 + t0*t1*t2*t3*t6 + t0*t1*t2*t4*t6 + t0*t1*t3*t4*t6 + t0*t2*t3*t4*t6 + t1*t2*t3*t4*t6 + t0*t1*t2*t5*t6 + t0*t1*t3*t5*t6 + t0*t2*t3*t5*t6 + t1*t2*t3*t5*t6 + t0*t1*t4*t5*t6 + t0*t2*t4*t5*t6 + t1*t2*t4*t5*t6 + t0*t3*t4*t5*t6 + t1*t3*t4*t5*t6 + t2*t3*t4*t5*t6 + t0*t1*t2*t3*t7 + t0*t1*t2*t4*t7 + t0*t1*t3*t4*t7 + t0*t2*t3*t4*t7 + t1*t2*t3*t4*t7 + t0*t1*t2*t5*t7 + t0*t1*t3*t5*t7 + t0*t2*t3*t5*t7 + t1*t2*t3*t5*t7 + t0*t1*t4*t5*t7 + t0*t2*t4*t5*t7 + t1*t2*t4*t5*t7 + t0*t3*t4*t5*t7 + t1*t3*t4*t5*t7 + t2*t3*t4*t5*t7 + t0*t1*t2*t6*t7 + t0*t1*t3*t6*t7 + t0*t2*t3*t6*t7 + t1*t2*t3*t6*t7 + t0*t1*t4*t6*t7 + t0*t2*t4*t6*t7 + t1*t2*t4*t6*t7 + t0*t3*t4*t6*t7 + t1*t3*t4*t6*t7 + t2*t3*t4*t6*t7 + t0*t1*t5*t6*t7 + t0*t2*t5*t6*t7 + t1*t2*t5*t6*t7 + t0*t3*t5*t6*t7 + t1*t3*t5*t6*t7 + t2*t3*t5*t6*t7 + t0*t4*t5*t6*t7 + t1*t4*t5*t6*t7 + t2*t4*t5*t6*t7 + t3*t4*t5*t6*t7 + t0*t1*t2*t3*t8 + t0*t1*t2*t4*t8 + t0*t1*t3*t4*t8 + t0*t2*t3*t4*t8 + t1*t2*t3*t4*t8 + t0*t1*t2*t5*t8 + t0*t1*t3*t5*t8 + t0*t2*t3*t5*t8 + t1*t2*t3*t5*t8 + t0*t1*t4*t5*t8 + t0*t2*t4*t5*t8 + t1*t2*t4*t5*t8 + t0*t3*t4*t5*t8 + t1*t3*t4*t5*t8 + t2*t3*t4*t5*t8 + t0*t1*t2*t6*t8 + t0*t1*t3*t6*t8 + t0*t2*t3*t6*t8 + t1*t2*t3*t6*t8 + t0*t1*t4*t6*t8 + t0*t2*t4*t6*t8 + t1*t2*t4*t6*t8 + t0*t3*t4*t6*t8 + t1*t3*t4*t6*t8 + t2*t3*t4*t6*t8 + t0*t1*t5*t6*t8 + t0*t2*t5*t6*t8 + t1*t2*t5*t6*t8 + t0*t3*t5*t6*t8 + t1*t3*t5*t6*t8 + t2*t3*t5*t6*t8 + t0*t4*t5*t6*t8 + t1*t4*t5*t6*t8 + t2*t4*t5*t6*t8 + t3*t4*t5*t6*t8 + t0*t1*t2*t7*t8 + t0*t1*t3*t7*t8 + t0*t2*t3*t7*t8 + t1*t2*t3*t7*t8 + t0*t1*t4*t7*t8 + t0*t2*t4*t7*t8 + t1*t2*t4*t7*t8 + t0*t3*t4*t7*t8 + t1*t3*t4*t7*t8 + t2*t3*t4*t7*t8 + t0*t1*t5*t7*t8 + t0*t2*t5*t7*t8 + t1*t2*t5*t7*t8 + t0*t3*t5*t7*t8 + t1*t3*t5*t7*t8 + t2*t3*t5*t7*t8 + t0*t4*t5*t7*t8 + t1*t4*t5*t7*t8 + t2*t4*t5*t7*t8 + t3*t4*t5*t7*t8 + t0*t1*t6*t7*t8 + t0*t2*t6*t7*t8 + t1*t2*t6*t7*t8 + t0*t3*t6*t7*t8 + t1*t3*t6*t7*t8 + t2*t3*t6*t7*t8 + t0*t4*t6*t7*t8 + t1*t4*t6*t7*t8 + t2*t4*t6*t7*t8 + t3*t4*t6*t7*t8 + t0*t5*t6*t7*t8 + t1*t5*t6*t7*t8 + t2*t5*t6*t7*t8 + t3*t5*t6*t7*t8 + t4*t5*t6*t7*t8, t0*t1*t2*t3*t4*t5 + t0*t1*t2*t3*t4*t6 + t0*t1*t2*t3*t5*t6 + t0*t1*t2*t4*t5*t6 + t0*t1*t3*t4*t5*t6 + t0*t2*t3*t4*t5*t6 + t1*t2*t3*t4*t5*t6 + t0*t1*t2*t3*t4*t7 + t0*t1*t2*t3*t5*t7 + t0*t1*t2*t4*t5*t7 + t0*t1*t3*t4*t5*t7 + t0*t2*t3*t4*t5*t7 + t1*t2*t3*t4*t5*t7 + t0*t1*t2*t3*t6*t7 + t0*t1*t2*t4*t6*t7 + t0*t1*t3*t4*t6*t7 + t0*t2*t3*t4*t6*t7 + t1*t2*t3*t4*t6*t7 + t0*t1*t2*t5*t6*t7 + t0*t1*t3*t5*t6*t7 + t0*t2*t3*t5*t6*t7 + t1*t2*t3*t5*t6*t7 + t0*t1*t4*t5*t6*t7 + t0*t2*t4*t5*t6*t7 + t1*t2*t4*t5*t6*t7 + t0*t3*t4*t5*t6*t7 + t1*t3*t4*t5*t6*t7 + t2*t3*t4*t5*t6*t7 + t0*t1*t2*t3*t4*t8 + t0*t1*t2*t3*t5*t8 + t0*t1*t2*t4*t5*t8 + t0*t1*t3*t4*t5*t8 + t0*t2*t3*t4*t5*t8 + t1*t2*t3*t4*t5*t8 + t0*t1*t2*t3*t6*t8 + t0*t1*t2*t4*t6*t8 + t0*t1*t3*t4*t6*t8 + t0*t2*t3*t4*t6*t8 + t1*t2*t3*t4*t6*t8 + t0*t1*t2*t5*t6*t8 + t0*t1*t3*t5*t6*t8 + t0*t2*t3*t5*t6*t8 + t1*t2*t3*t5*t6*t8 + t0*t1*t4*t5*t6*t8 + t0*t2*t4*t5*t6*t8 + t1*t2*t4*t5*t6*t8 + t0*t3*t4*t5*t6*t8 + t1*t3*t4*t5*t6*t8 + t2*t3*t4*t5*t6*t8 + t0*t1*t2*t3*t7*t8 + t0*t1*t2*t4*t7*t8 + t0*t1*t3*t4*t7*t8 + t0*t2*t3*t4*t7*t8 + t1*t2*t3*t4*t7*t8 + t0*t1*t2*t5*t7*t8 + t0*t1*t3*t5*t7*t8 + t0*t2*t3*t5*t7*t8 + t1*t2*t3*t5*t7*t8 + t0*t1*t4*t5*t7*t8 + t0*t2*t4*t5*t7*t8 + t1*t2*t4*t5*t7*t8 + t0*t3*t4*t5*t7*t8 + t1*t3*t4*t5*t7*t8 + t2*t3*t4*t5*t7*t8 + t0*t1*t2*t6*t7*t8 + t0*t1*t3*t6*t7*t8 + t0*t2*t3*t6*t7*t8 + t1*t2*t3*t6*t7*t8 + t0*t1*t4*t6*t7*t8 + t0*t2*t4*t6*t7*t8 + t1*t2*t4*t6*t7*t8 + t0*t3*t4*t6*t7*t8 + t1*t3*t4*t6*t7*t8 + t2*t3*t4*t6*t7*t8 + t0*t1*t5*t6*t7*t8 + t0*t2*t5*t6*t7*t8 + t1*t2*t5*t6*t7*t8 + t0*t3*t5*t6*t7*t8 + t1*t3*t5*t6*t7*t8 + t2*t3*t5*t6*t7*t8 + t0*t4*t5*t6*t7*t8 + t1*t4*t5*t6*t7*t8 + t2*t4*t5*t6*t7*t8 + t3*t4*t5*t6*t7*t8, t0*t1*t2*t3*t4*t5*t6 + t0*t1*t2*t3*t4*t5*t7 + t0*t1*t2*t3*t4*t6*t7 + t0*t1*t2*t3*t5*t6*t7 + t0*t1*t2*t4*t5*t6*t7 + t0*t1*t3*t4*t5*t6*t7 + t0*t2*t3*t4*t5*t6*t7 + t1*t2*t3*t4*t5*t6*t7 + t0*t1*t2*t3*t4*t5*t8 + t0*t1*t2*t3*t4*t6*t8 + t0*t1*t2*t3*t5*t6*t8 + t0*t1*t2*t4*t5*t6*t8 + t0*t1*t3*t4*t5*t6*t8 + t0*t2*t3*t4*t5*t6*t8 + t1*t2*t3*t4*t5*t6*t8 + t0*t1*t2*t3*t4*t7*t8 + t0*t1*t2*t3*t5*t7*t8 + t0*t1*t2*t4*t5*t7*t8 + t0*t1*t3*t4*t5*t7*t8 + t0*t2*t3*t4*t5*t7*t8 + t1*t2*t3*t4*t5*t7*t8 + t0*t1*t2*t3*t6*t7*t8 + t0*t1*t2*t4*t6*t7*t8 + t0*t1*t3*t4*t6*t7*t8 + t0*t2*t3*t4*t6*t7*t8 + t1*t2*t3*t4*t6*t7*t8 + t0*t1*t2*t5*t6*t7*t8 + t0*t1*t3*t5*t6*t7*t8 + t0*t2*t3*t5*t6*t7*t8 + t1*t2*t3*t5*t6*t7*t8 + t0*t1*t4*t5*t6*t7*t8 + t0*t2*t4*t5*t6*t7*t8 + t1*t2*t4*t5*t6*t7*t8 + t0*t3*t4*t5*t6*t7*t8 + t1*t3*t4*t5*t6*t7*t8 + t2*t3*t4*t5*t6*t7*t8, t0*t1*t2*t3*t4*t5*t6*t7 + t0*t1*t2*t3*t4*t5*t6*t8 + t0*t1*t2*t3*t4*t5*t7*t8 + t0*t1*t2*t3*t4*t6*t7*t8 + t0*t1*t2*t3*t5*t6*t7*t8 + t0*t1*t2*t4*t5*t6*t7*t8 + t0*t1*t3*t4*t5*t6*t7*t8 + t0*t2*t3*t4*t5*t6*t7*t8 + t1*t2*t3*t4*t5*t6*t7*t8, t0*t1*t2*t3*t4*t5*t6*t7*t8]\n"
     ]
    }
   ],
   "source": [
    "Qt.<t0, t1, t2, t3, t4, t5, t6, t7, t8, t9, t10> = PolynomialRing(QQ)\n",
    "\n",
    "t=[t0, t1, t2, t3, t4, t5, t6, t7, t8, t9, t10]\n",
    "sigma=[1, t0, 0, 0, 0, 0, 0, 0, 0, 0, 0]\n",
    "N=len(t)-2\n",
    "sigma1=[0 for n in range(10)]\n",
    "sigma1[0]=1\n",
    "for n in range(2, N+1, 1):\n",
    "    \n",
    "    sigma1[n] = t[n-1]*sigma[n-1]\n",
    "    for i in range(1,n, 1):\n",
    "        \n",
    "        sigma1[i]= sigma[i] + t[n-1]*sigma[i-1]\n",
    "    sigma=sigma1.copy()\n",
    "print(sigma)"
   ]
  },
  {
   "cell_type": "markdown",
   "metadata": {},
   "source": [
    "#### 4.\n"
   ]
  },
  {
   "cell_type": "code",
   "execution_count": 49,
   "metadata": {},
   "outputs": [
    {
     "ename": "AttributeError",
     "evalue": "'sage.rings.integer.Integer' object has no attribute 'is_symetric'",
     "output_type": "error",
     "traceback": [
      "\u001b[0;31m---------------------------------------------------------------------------\u001b[0m",
      "\u001b[0;31mAttributeError\u001b[0m                            Traceback (most recent call last)",
      "Cell \u001b[0;32mIn[49], line 2\u001b[0m\n\u001b[1;32m      1\u001b[0m \u001b[38;5;28;01mfor\u001b[39;00m s \u001b[38;5;129;01min\u001b[39;00m sigma:\n\u001b[0;32m----> 2\u001b[0m     \u001b[38;5;28mprint\u001b[39m(\u001b[43ms\u001b[49m\u001b[38;5;241;43m.\u001b[39;49m\u001b[43mis_symetric\u001b[49m())\n",
      "File \u001b[0;32m~/miniforge3/envs/sage/lib/python3.9/site-packages/sage/structure/element.pyx:495\u001b[0m, in \u001b[0;36msage.structure.element.Element.__getattr__ (build/cythonized/sage/structure/element.c:11827)\u001b[0;34m()\u001b[0m\n\u001b[1;32m    493\u001b[0m         AttributeError: 'LeftZeroSemigroup_with_category.element_class' object has no attribute 'blah_blah'...\n\u001b[1;32m    494\u001b[0m     \"\"\"\n\u001b[0;32m--> 495\u001b[0m     return self.getattr_from_category(name)\n\u001b[1;32m    496\u001b[0m \n\u001b[1;32m    497\u001b[0m cdef getattr_from_category(self, name):\n",
      "File \u001b[0;32m~/miniforge3/envs/sage/lib/python3.9/site-packages/sage/structure/element.pyx:508\u001b[0m, in \u001b[0;36msage.structure.element.Element.getattr_from_category (build/cythonized/sage/structure/element.c:11937)\u001b[0;34m()\u001b[0m\n\u001b[1;32m    506\u001b[0m     else:\n\u001b[1;32m    507\u001b[0m         cls = P._abstract_element_class\n\u001b[0;32m--> 508\u001b[0m     return getattr_from_other_class(self, cls, name)\n\u001b[1;32m    509\u001b[0m \n\u001b[1;32m    510\u001b[0m def __dir__(self):\n",
      "File \u001b[0;32m~/miniforge3/envs/sage/lib/python3.9/site-packages/sage/cpython/getattr.pyx:363\u001b[0m, in \u001b[0;36msage.cpython.getattr.getattr_from_other_class (build/cythonized/sage/cpython/getattr.c:4461)\u001b[0;34m()\u001b[0m\n\u001b[1;32m    361\u001b[0m     dummy_error_message.cls = type(self)\n\u001b[1;32m    362\u001b[0m     dummy_error_message.name = name\n\u001b[0;32m--> 363\u001b[0m     raise AttributeError(dummy_error_message)\n\u001b[1;32m    364\u001b[0m attribute = <object>attr\n\u001b[1;32m    365\u001b[0m # Check for a descriptor (__get__ in Python)\n",
      "\u001b[0;31mAttributeError\u001b[0m: 'sage.rings.integer.Integer' object has no attribute 'is_symetric'"
     ]
    }
   ],
   "source": [
    "for s in sigma:\n",
    "    print(s.is_symetric())"
   ]
  },
  {
   "cell_type": "markdown",
   "metadata": {},
   "source": [
    "#### 5.\n",
    "\n",
    "i parmis n \n",
    "\n",
    "Cela risque d'être pénible en calcul de calculer pour n (la factorielle 100 va être lourde)"
   ]
  },
  {
   "cell_type": "markdown",
   "metadata": {},
   "source": [
    "#### 6."
   ]
  },
  {
   "cell_type": "code",
   "execution_count": null,
   "metadata": {},
   "outputs": [],
   "source": []
  },
  {
   "cell_type": "markdown",
   "metadata": {},
   "source": [
    "#### 7."
   ]
  },
  {
   "cell_type": "code",
   "execution_count": null,
   "metadata": {},
   "outputs": [],
   "source": []
  },
  {
   "cell_type": "markdown",
   "metadata": {},
   "source": [
    "### 2."
   ]
  },
  {
   "cell_type": "markdown",
   "metadata": {},
   "source": [
    "#### 1."
   ]
  },
  {
   "cell_type": "code",
   "execution_count": 53,
   "metadata": {},
   "outputs": [
    {
     "ename": "AttributeError",
     "evalue": "'sage.rings.integer.Integer' object has no attribute 'exponents'",
     "output_type": "error",
     "traceback": [
      "\u001b[0;31m---------------------------------------------------------------------------\u001b[0m",
      "\u001b[0;31mAttributeError\u001b[0m                            Traceback (most recent call last)",
      "Cell \u001b[0;32mIn[53], line 5\u001b[0m\n\u001b[1;32m      2\u001b[0m     \u001b[38;5;28;01mreturn\u001b[39;00m P\u001b[38;5;241m.\u001b[39mexponents()[Integer(\u001b[38;5;241m0\u001b[39m)]\n\u001b[1;32m      4\u001b[0m \u001b[38;5;28;01mfor\u001b[39;00m i \u001b[38;5;129;01min\u001b[39;00m \u001b[38;5;28mrange\u001b[39m(Integer(\u001b[38;5;241m1\u001b[39m), \u001b[38;5;28mlen\u001b[39m(sigma), Integer(\u001b[38;5;241m1\u001b[39m)):\n\u001b[0;32m----> 5\u001b[0m     \u001b[38;5;28mprint\u001b[39m(\u001b[43mmultidegré\u001b[49m\u001b[43m(\u001b[49m\u001b[43ms\u001b[49m\u001b[43m)\u001b[49m)\n",
      "Cell \u001b[0;32mIn[53], line 2\u001b[0m, in \u001b[0;36mmultidegré\u001b[0;34m(P)\u001b[0m\n\u001b[1;32m      1\u001b[0m \u001b[38;5;28;01mdef\u001b[39;00m \u001b[38;5;21mmultidegré\u001b[39m(P):\n\u001b[0;32m----> 2\u001b[0m     \u001b[38;5;28;01mreturn\u001b[39;00m \u001b[43mP\u001b[49m\u001b[38;5;241;43m.\u001b[39;49m\u001b[43mexponents\u001b[49m()[Integer(\u001b[38;5;241m0\u001b[39m)]\n",
      "File \u001b[0;32m~/miniforge3/envs/sage/lib/python3.9/site-packages/sage/structure/element.pyx:495\u001b[0m, in \u001b[0;36msage.structure.element.Element.__getattr__ (build/cythonized/sage/structure/element.c:11827)\u001b[0;34m()\u001b[0m\n\u001b[1;32m    493\u001b[0m         AttributeError: 'LeftZeroSemigroup_with_category.element_class' object has no attribute 'blah_blah'...\n\u001b[1;32m    494\u001b[0m     \"\"\"\n\u001b[0;32m--> 495\u001b[0m     return self.getattr_from_category(name)\n\u001b[1;32m    496\u001b[0m \n\u001b[1;32m    497\u001b[0m cdef getattr_from_category(self, name):\n",
      "File \u001b[0;32m~/miniforge3/envs/sage/lib/python3.9/site-packages/sage/structure/element.pyx:508\u001b[0m, in \u001b[0;36msage.structure.element.Element.getattr_from_category (build/cythonized/sage/structure/element.c:11937)\u001b[0;34m()\u001b[0m\n\u001b[1;32m    506\u001b[0m     else:\n\u001b[1;32m    507\u001b[0m         cls = P._abstract_element_class\n\u001b[0;32m--> 508\u001b[0m     return getattr_from_other_class(self, cls, name)\n\u001b[1;32m    509\u001b[0m \n\u001b[1;32m    510\u001b[0m def __dir__(self):\n",
      "File \u001b[0;32m~/miniforge3/envs/sage/lib/python3.9/site-packages/sage/cpython/getattr.pyx:363\u001b[0m, in \u001b[0;36msage.cpython.getattr.getattr_from_other_class (build/cythonized/sage/cpython/getattr.c:4461)\u001b[0;34m()\u001b[0m\n\u001b[1;32m    361\u001b[0m     dummy_error_message.cls = type(self)\n\u001b[1;32m    362\u001b[0m     dummy_error_message.name = name\n\u001b[0;32m--> 363\u001b[0m     raise AttributeError(dummy_error_message)\n\u001b[1;32m    364\u001b[0m attribute = <object>attr\n\u001b[1;32m    365\u001b[0m # Check for a descriptor (__get__ in Python)\n",
      "\u001b[0;31mAttributeError\u001b[0m: 'sage.rings.integer.Integer' object has no attribute 'exponents'"
     ]
    }
   ],
   "source": [
    "def multidegré(P):\n",
    "    return P.exponents()[0]\n",
    "\n",
    "for i in range(1, len(sigma), 1):\n",
    "    print(multidegré(s))"
   ]
  },
  {
   "cell_type": "markdown",
   "metadata": {},
   "source": [
    "#### 2. - 3."
   ]
  },
  {
   "cell_type": "code",
   "execution_count": 55,
   "metadata": {},
   "outputs": [],
   "source": [
    "QY.<Y0, Y1, Y2>=PolynomialRing(QQ)\n",
    "Y=[Y0, Y1, Y2]\n",
    "\n",
    "Q=0"
   ]
  },
  {
   "cell_type": "code",
   "execution_count": null,
   "metadata": {},
   "outputs": [],
   "source": []
  }
 ],
 "metadata": {
  "kernelspec": {
   "display_name": "SageMath 10.4",
   "language": "sage",
   "name": "sagemath"
  },
  "language_info": {
   "codemirror_mode": {
    "name": "ipython",
    "version": 3
   },
   "file_extension": ".py",
   "mimetype": "text/x-python",
   "name": "python",
   "nbconvert_exporter": "python",
   "pygments_lexer": "ipython3",
   "version": "3.9.20"
  }
 },
 "nbformat": 4,
 "nbformat_minor": 2
}

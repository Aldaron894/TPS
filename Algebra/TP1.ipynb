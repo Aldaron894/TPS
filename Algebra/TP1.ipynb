{
 "cells": [
  {
   "cell_type": "markdown",
   "metadata": {
    "vscode": {
     "languageId": "python"
    }
   },
   "source": [
    "## I - Echauffements\n",
    "\n",
    "### 3.\n"
   ]
  },
  {
   "cell_type": "code",
   "execution_count": 26,
   "metadata": {},
   "outputs": [],
   "source": [
    "Z15X.<X>=PolynomialRing(Integers(15))\n"
   ]
  },
  {
   "cell_type": "markdown",
   "metadata": {},
   "source": [
    "### 4. \n",
    "\n"
   ]
  },
  {
   "cell_type": "code",
   "execution_count": 27,
   "metadata": {},
   "outputs": [
    {
     "name": "stdout",
     "output_type": "stream",
     "text": [
      "PQ =  12*X + 6  est de degré : 1 PR =  0  est de degré : -1 QR =  10*X^6 + 5  est de degré :  6\n"
     ]
    }
   ],
   "source": [
    "P = 3*X -6\n",
    "Q = 5*X^3 - 1\n",
    "R = (5*X +10)^3\n",
    "\n",
    "PQ=P*Q\n",
    "PR=P*R\n",
    "QR=Q*R\n",
    "print(\"PQ = \", PQ,\" est de degré :\", PQ.degree(),\"PR = \", PR, \" est de degré :\", PR.degree(),\"QR = \",  QR, \" est de degré : \", QR.degree())\n",
    "\n"
   ]
  },
  {
   "cell_type": "markdown",
   "metadata": {},
   "source": []
  },
  {
   "cell_type": "markdown",
   "metadata": {},
   "source": [
    "### 5."
   ]
  },
  {
   "cell_type": "code",
   "execution_count": 28,
   "metadata": {},
   "outputs": [
    {
     "data": {
      "text/plain": [
       "15"
      ]
     },
     "execution_count": 28,
     "metadata": {},
     "output_type": "execute_result"
    }
   ],
   "source": [
    "Z15X.characteristic()"
   ]
  },
  {
   "cell_type": "markdown",
   "metadata": {},
   "source": [
    "### 6.\n",
    "\n",
    "Comme vu dessous l'anneau n'est pas intègre."
   ]
  },
  {
   "cell_type": "code",
   "execution_count": 29,
   "metadata": {},
   "outputs": [
    {
     "data": {
      "text/plain": [
       "False"
      ]
     },
     "execution_count": 29,
     "metadata": {},
     "output_type": "execute_result"
    }
   ],
   "source": [
    "Z15X.is_integral_domain()"
   ]
  },
  {
   "cell_type": "markdown",
   "metadata": {},
   "source": []
  },
  {
   "cell_type": "markdown",
   "metadata": {},
   "source": [
    "### 7."
   ]
  },
  {
   "cell_type": "code",
   "execution_count": 30,
   "metadata": {},
   "outputs": [
    {
     "ename": "AttributeError",
     "evalue": "'sage.rings.polynomial.polynomial_zmod_flint.Polynomial_zmod_flint' object has no attribute 'is_irreductible'",
     "output_type": "error",
     "traceback": [
      "\u001b[0;31m---------------------------------------------------------------------------\u001b[0m",
      "\u001b[0;31mAttributeError\u001b[0m                            Traceback (most recent call last)",
      "Cell \u001b[0;32mIn[30], line 1\u001b[0m\n\u001b[0;32m----> 1\u001b[0m \u001b[43mQ\u001b[49m\u001b[38;5;241;43m.\u001b[39;49m\u001b[43mis_irreductible\u001b[49m()\n",
      "File \u001b[0;32m~/miniforge3/envs/sage/lib/python3.9/site-packages/sage/structure/element.pyx:495\u001b[0m, in \u001b[0;36msage.structure.element.Element.__getattr__ (build/cythonized/sage/structure/element.c:11827)\u001b[0;34m()\u001b[0m\n\u001b[1;32m    493\u001b[0m         AttributeError: 'LeftZeroSemigroup_with_category.element_class' object has no attribute 'blah_blah'...\n\u001b[1;32m    494\u001b[0m     \"\"\"\n\u001b[0;32m--> 495\u001b[0m     return self.getattr_from_category(name)\n\u001b[1;32m    496\u001b[0m \n\u001b[1;32m    497\u001b[0m cdef getattr_from_category(self, name):\n",
      "File \u001b[0;32m~/miniforge3/envs/sage/lib/python3.9/site-packages/sage/structure/element.pyx:508\u001b[0m, in \u001b[0;36msage.structure.element.Element.getattr_from_category (build/cythonized/sage/structure/element.c:11937)\u001b[0;34m()\u001b[0m\n\u001b[1;32m    506\u001b[0m     else:\n\u001b[1;32m    507\u001b[0m         cls = P._abstract_element_class\n\u001b[0;32m--> 508\u001b[0m     return getattr_from_other_class(self, cls, name)\n\u001b[1;32m    509\u001b[0m \n\u001b[1;32m    510\u001b[0m def __dir__(self):\n",
      "File \u001b[0;32m~/miniforge3/envs/sage/lib/python3.9/site-packages/sage/cpython/getattr.pyx:363\u001b[0m, in \u001b[0;36msage.cpython.getattr.getattr_from_other_class (build/cythonized/sage/cpython/getattr.c:4461)\u001b[0;34m()\u001b[0m\n\u001b[1;32m    361\u001b[0m     dummy_error_message.cls = type(self)\n\u001b[1;32m    362\u001b[0m     dummy_error_message.name = name\n\u001b[0;32m--> 363\u001b[0m     raise AttributeError(dummy_error_message)\n\u001b[1;32m    364\u001b[0m attribute = <object>attr\n\u001b[1;32m    365\u001b[0m # Check for a descriptor (__get__ in Python)\n",
      "\u001b[0;31mAttributeError\u001b[0m: 'sage.rings.polynomial.polynomial_zmod_flint.Polynomial_zmod_flint' object has no attribute 'is_irreductible'"
     ]
    }
   ],
   "source": [
    "Q.is_irreductible()"
   ]
  },
  {
   "cell_type": "markdown",
   "metadata": {},
   "source": [
    "## II - Polynômes symétriques \n",
    "\n",
    "### II.1. Construire les polynômes symétriques élémentaires\n",
    "\n",
    "#### 2.\n",
    "\n"
   ]
  },
  {
   "cell_type": "code",
   "execution_count": null,
   "metadata": {},
   "outputs": [],
   "source": [
    "Qt.<t0, t1, t2, t3, t4, t5, t6, t7, t8, t9, t10> = PolynomialRing(QQ)\n",
    "\n",
    "t=[t0, t1, t2, t3, t4, t5, t6, t7, t8, t9, t10]\n",
    "sigma=[1, t0, 0, 0, 0, 0, 0, 0, 0, 0, 0]\n",
    "N=len(t)-2\n",
    "sigma1=[0 for n in range(10)]\n",
    "sigma1[0]=1\n",
    "for n in range(2, N+1, 1):\n",
    "    \n",
    "    sigma1[n] = t[n-1]*sigma[n-1]\n",
    "    for i in range(1,n, 1):\n",
    "        \n",
    "        sigma1[i]= sigma[i] + t[n-1]*sigma[i-1]\n",
    "    sigma=sigma1.copy()\n",
    "print(sigma)"
   ]
  },
  {
   "cell_type": "markdown",
   "metadata": {},
   "source": [
    "#### 4.\n"
   ]
  },
  {
   "cell_type": "code",
   "execution_count": null,
   "metadata": {},
   "outputs": [],
   "source": [
    "for s in sigma:\n",
    "    print(s.is_symetric())"
   ]
  },
  {
   "cell_type": "markdown",
   "metadata": {},
   "source": [
    "#### 5.\n",
    "\n",
    "i parmis n \n",
    "\n",
    "Cela risque d'être pénible en calcul de calculer pour n (la factorielle 100 va être lourde)"
   ]
  },
  {
   "cell_type": "markdown",
   "metadata": {},
   "source": [
    "#### 6."
   ]
  },
  {
   "cell_type": "markdown",
   "metadata": {},
   "source": [
    "pas compris"
   ]
  },
  {
   "cell_type": "markdown",
   "metadata": {},
   "source": [
    "#### 7."
   ]
  },
  {
   "cell_type": "code",
   "execution_count": null,
   "metadata": {},
   "outputs": [],
   "source": [
    "def calcule_sigma(n):\n",
    "    # Définir l'anneau des polynômes Q[t_0, ..., t_{n-1}]\n",
    "    R = PolynomialRing(QQ, 't', n)\n",
    "    t = R.gens()  # Générer les variables t_0, ..., t_{n-1}\n",
    "\n",
    "    # Définir l'anneau de polynômes Q[t_0, ..., t_{n-1}][X]\n",
    "    S = R['X']\n",
    "    X = S.gen()  # Générer la variable X\n",
    "\n",
    "    # Définir le polynôme (X - t_0)(X - t_1)...(X - t_{n-1})\n",
    "    poly = prod(X - t[i] for i in range(n))\n",
    "\n",
    "    # Extraire les coefficients de ce polynôme\n",
    "    coeffs = poly.coefficients(sparse=False)\n",
    "\n",
    "    # Les polynômes symétriques élémentaires sont les coefficients avec des signes ajustés\n",
    "    sigma = [(-1)^i * coeffs[i] for i in range(n+1)]\n",
    "\n",
    "    return sigma\n",
    "\n",
    "calcule_sigma(10)"
   ]
  },
  {
   "cell_type": "markdown",
   "metadata": {},
   "source": [
    "### II.2. Décomposer un polynôme symétrique en fonction des polynômes symétriques élémentaires"
   ]
  },
  {
   "cell_type": "markdown",
   "metadata": {},
   "source": [
    "#### 1."
   ]
  },
  {
   "cell_type": "code",
   "execution_count": null,
   "metadata": {},
   "outputs": [],
   "source": [
    "def multidegré(P):\n",
    "    return P.exponents()[0]\n",
    "\n",
    "for i in range(1, len(sigma), 1):\n",
    "    print(multidegré(s))"
   ]
  },
  {
   "cell_type": "markdown",
   "metadata": {},
   "source": [
    "#### 2. et 3."
   ]
  },
  {
   "cell_type": "code",
   "execution_count": null,
   "metadata": {},
   "outputs": [],
   "source": [
    "QY.<Y0, Y1, Y2>=PolynomialRing(QQ)\n",
    "Y=[Y0, Y1, Y2]\n",
    "\n",
    "Q=0"
   ]
  },
  {
   "cell_type": "markdown",
   "metadata": {},
   "source": [
    "#### 4."
   ]
  },
  {
   "cell_type": "code",
   "execution_count": null,
   "metadata": {},
   "outputs": [],
   "source": [
    "R.<t0, t1, t2, t3> = PolynomialRing(QQ)\n",
    "\n",
    "P = t0**4 + t1**4 + t2**4 + t3**4\n",
    "c=1\n",
    "M=1\n",
    "sigma=calcule_sigma(3)\n",
    "md=multidegree(P)\n",
    "for i in range(len(md)):\n",
    "    "
   ]
  },
  {
   "cell_type": "markdown",
   "metadata": {},
   "source": [
    "#### 5."
   ]
  },
  {
   "cell_type": "markdown",
   "metadata": {},
   "source": [
    "#### 6."
   ]
  },
  {
   "cell_type": "markdown",
   "metadata": {},
   "source": [
    "#### 7."
   ]
  },
  {
   "cell_type": "markdown",
   "metadata": {},
   "source": [
    "#### 8."
   ]
  },
  {
   "cell_type": "markdown",
   "metadata": {},
   "source": [
    "### II.3. Calcul de fonctions symétriques de racines\n",
    "\n",
    "#### 1.\n",
    "\n",
    "$f= X^3 + 2X^2 - X -1 \\in \\mathbb{Q}[X]$"
   ]
  },
  {
   "cell_type": "code",
   "execution_count": null,
   "metadata": {},
   "outputs": [],
   "source": [
    "R.<X> = PolynomialRing(QQ)\n",
    "\n",
    "f = X^3 + 2*X^2 -X -1\n",
    "\n",
    "racines=f.roots(CC, multiplicities=False)\n",
    "\n",
    "vect=[]\n",
    "\n",
    "for i in range(10):\n",
    "    sum = 0\n",
    "    for root in racines:\n",
    "        sum += root**(i+1)\n",
    "    vect.append(sum)\n",
    "\n",
    "print(vect)\n",
    "\n"
   ]
  },
  {
   "cell_type": "markdown",
   "metadata": {},
   "source": [
    "#### 2.\n",
    "\n",
    "Je n'ai pas réussi à faire la dite fonction donc je suis un peu bloqué... "
   ]
  },
  {
   "cell_type": "code",
   "execution_count": null,
   "metadata": {},
   "outputs": [],
   "source": []
  },
  {
   "cell_type": "markdown",
   "metadata": {},
   "source": [
    "#### 3."
   ]
  },
  {
   "cell_type": "code",
   "execution_count": null,
   "metadata": {},
   "outputs": [],
   "source": [
    "def redefenir_anneaux(n):\n",
    "    global Qt, QY, t, Y\n",
    "\n",
    "    \n",
    "    Qt = PolynomialRing(QQ, 't', n)\n",
    "    t = Qt.gens() \n",
    "    \n",
    "    QY = PolynomialRing(QQ, 'Y', n)\n",
    "    Y = QY.gens()  "
   ]
  },
  {
   "cell_type": "markdown",
   "metadata": {},
   "source": [
    "#### 4.\n",
    "\n",
    "$f = X^{10} - X^9 + X^8 -X + 1$"
   ]
  },
  {
   "cell_type": "code",
   "execution_count": null,
   "metadata": {},
   "outputs": [],
   "source": [
    "R.<X> = PolynomialRing(QQ)\n",
    "\n",
    "f = X**10 -X**9 +X**8 -X +1\n",
    "\n",
    "racines=f.roots(CC, multiplicities=False)\n",
    "\n",
    "vect=[]\n",
    "\n",
    "for i in range(10):\n",
    "    sum = 0\n",
    "    for root in racines:\n",
    "        sum += root**(i+1)\n",
    "    vect.append(sum)\n",
    "\n",
    "print(vect)\n",
    "\n"
   ]
  },
  {
   "cell_type": "markdown",
   "metadata": {},
   "source": [
    "#### 5.\n",
    "\n",
    "A priori comme on utilise des flotants avec la méthode naïve il y a plus de chance que on arrive sur des nombres non entiers comme il y a beaucoup plus de calcul (à priori pas ce problème avec la méthode \"décompose\" comme on utilise que des rationnels)"
   ]
  },
  {
   "cell_type": "code",
   "execution_count": null,
   "metadata": {},
   "outputs": [],
   "source": [
    "R.<X> = PolynomialRing(QQ)\n",
    "\n",
    "f = X**20 -X**9 +X**8 -X +1\n",
    "\n",
    "racines=f.roots(CC, multiplicities=False)\n",
    "\n",
    "vect=[]\n",
    "\n",
    "for i in range(10):\n",
    "    sum = 0\n",
    "    for root in racines:\n",
    "        sum += root**(i+1)\n",
    "    vect.append(sum)\n",
    "\n",
    "print(vect)"
   ]
  },
  {
   "cell_type": "code",
   "execution_count": null,
   "metadata": {},
   "outputs": [],
   "source": []
  }
 ],
 "metadata": {
  "kernelspec": {
   "display_name": "SageMath 10.4",
   "language": "sage",
   "name": "sagemath"
  },
  "language_info": {
   "codemirror_mode": {
    "name": "ipython",
    "version": 3
   },
   "file_extension": ".py",
   "mimetype": "text/x-python",
   "name": "python",
   "nbconvert_exporter": "python",
   "pygments_lexer": "ipython3",
   "version": "3.9.20"
  }
 },
 "nbformat": 4,
 "nbformat_minor": 4
}

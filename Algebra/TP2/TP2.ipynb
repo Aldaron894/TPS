{
 "cells": [
  {
   "cell_type": "markdown",
   "id": "aa953528-d341-40b1-9627-8e7969ebc6b7",
   "metadata": {},
   "source": [
    "# I - Création de matrices Aléatoires\n",
    "\n",
    "## 1."
   ]
  },
  {
   "cell_type": "code",
   "execution_count": 5,
   "id": "7951cdd2-909e-4029-9588-add94d69354b",
   "metadata": {},
   "outputs": [
    {
     "data": {
      "text/plain": [
       "[1 0 0 0]\n",
       "[0 1 0 0]\n",
       "[0 0 1 0]\n",
       "[0 0 0 1]"
      ]
     },
     "execution_count": 5,
     "metadata": {},
     "output_type": "execute_result"
    }
   ],
   "source": [
    "def rand_pair(n):\n",
    "    a=randrange(n)\n",
    "    b=randrange(n-1)\n",
    "    if b==a :\n",
    "        b=n-1\n",
    "    return (a,b)\n",
    "    \n",
    "def rand_elem(n):\n",
    "    i,j = rand_pair(n)\n",
    "    test = randrange(10)\n",
    "    if test == 0:\n",
    "        A=identity_matrix(ZZ, n)\n",
    "        A.swap_rows(i,j)\n",
    "        return A\n",
    "    else :\n",
    "        s = randrange (-3 , 4)\n",
    "        return elementary_matrix(ZZ, n, row1 = i, row2 = j, scale=s)\n",
    "        \n",
    "rand_elem(4)"
   ]
  },
  {
   "cell_type": "markdown",
   "id": "3f999821-64c9-4a0a-bde2-3e5fc6ff030b",
   "metadata": {},
   "source": [
    "## 2."
   ]
  },
  {
   "cell_type": "code",
   "execution_count": 6,
   "id": "7474eb52-ccc6-4571-bffb-c324a593f8ee",
   "metadata": {},
   "outputs": [
    {
     "data": {
      "text/plain": [
       "(\n",
       "[  122   193   132    61]               \n",
       "[  106   196   148    31]  [-39  14 -31]\n",
       "[-1207 -1776 -1149  -707]  [103 -37  81]\n",
       "[  457   913   718    81], [ 48 -17  47]\n",
       ")"
      ]
     },
     "execution_count": 6,
     "metadata": {},
     "output_type": "execute_result"
    }
   ],
   "source": [
    "def rand_inversible(n, pas=50):\n",
    "    A=identity_matrix(ZZ, n)\n",
    "    i=0\n",
    "    while i < pas:\n",
    "        i=i+1\n",
    "        A*=rand_elem(n) # on multiplie \"pas\" fois la matrice identité par une matrice elementaire aléatoire \n",
    "    return A\n",
    "\n",
    "rand_inversible(4), rand_inversible(3, 12)\n"
   ]
  },
  {
   "cell_type": "markdown",
   "id": "e7145385-cb02-49f2-b813-b67711624178",
   "metadata": {},
   "source": [
    "## 3."
   ]
  },
  {
   "cell_type": "code",
   "execution_count": 7,
   "id": "9aab9f2d-188e-4168-b323-fc98de1c64f6",
   "metadata": {},
   "outputs": [
    {
     "data": {
      "text/plain": [
       "[-390423268  128684728   50353488  -76007836]\n",
       "[-116698954   38464286   15050940  -22719096]\n",
       "[-121860696   40166016   15715928  -23723432]"
      ]
     },
     "execution_count": 7,
     "metadata": {},
     "output_type": "execute_result"
    }
   ],
   "source": [
    "def rand_matrice(n,p,d):\n",
    "    if (len(d)<=n) & (len(d)<=p) :\n",
    "        for i in range(len(d)):\n",
    "            if d[i+1]%d[i] != 0 : \n",
    "                print(\"Les entiers du vecteur ne se divisent pas les uns les autres\")\n",
    "            else:\n",
    "                A = zero_matrix(ZZ, n, p)\n",
    "                for i in range (len(d)):\n",
    "                    A[i, i] = d[i] \n",
    "                A = rand_inversible(n) * A * rand_inversible(p) \n",
    "                return A\n",
    "    else :\n",
    "        print(\"Le vecteur d'entier est trop grand\")\n",
    "\n",
    "rand_matrice(3, 4, [2, 4, 8])\n"
   ]
  },
  {
   "cell_type": "markdown",
   "id": "905884dd-5361-43c9-97ae-0dee84ef3c4d",
   "metadata": {},
   "source": [
    "## 4.\n",
    "\n",
    "La première méthode est certes plus rapide mais donne des coefficient enormes avec un pas 50 alors que la deuxième donne des coefficients de norme choisie (ici j'ai choisi 20 max)"
   ]
  },
  {
   "cell_type": "code",
   "execution_count": 8,
   "id": "30346d12-fa80-42dc-aa17-bcd37c419bea",
   "metadata": {},
   "outputs": [
    {
     "name": "stdout",
     "output_type": "stream",
     "text": [
      "[-2388035071  3209505871  3819413043  1477914439]\n",
      "[-1022675419  1374470555  1635663905   632916763]\n",
      "[  239318030  -321641522  -382762718  -148109534] \n",
      "\n",
      "La première methode trouve en  0.008893000000000484 secondes \n",
      "\n",
      "[  1  -3  -3 -14]\n",
      "[-10 -14 -18  14]\n",
      "[  6 -18  18  -4] \n",
      "\n",
      "La deuxième methode trouve en  0.007291999999999632  secondes \n",
      "\n"
     ]
    }
   ],
   "source": [
    "R = 20\n",
    "def rand_matricebis(n, p, d):\n",
    "    l=[0 for i in range(len(d))]\n",
    "    while l!=d:\n",
    "        A = matrix(n, p, [randrange(-R, R+1) for i in range(n*p)])\n",
    "        l = A.elementary_divisors()\n",
    "    #print(A, l)\n",
    "    return A\n",
    "\n",
    "t = cputime()\n",
    "print(rand_matrice(3, 4, [1, 2, 4]), \"\\n\")\n",
    "print(\"La première methode trouve en \", cputime(t), \"secondes \\n\")\n",
    "\n",
    "\n",
    "t = cputime()\n",
    "print(rand_matricebis(3, 4, [1, 2, 4]), \"\\n\")\n",
    "print(\"La deuxième methode trouve en \", cputime(t), \" secondes \\n\")"
   ]
  },
  {
   "cell_type": "markdown",
   "id": "f383396c-dec6-4c4e-a1b8-bd18349b29c0",
   "metadata": {},
   "source": [
    "# II - Résoudre un système linéaire dans $\\mathbb{Z}$\n",
    "\n",
    "## 1."
   ]
  },
  {
   "cell_type": "code",
   "execution_count": 28,
   "id": "0556941b-5ca9-441d-ab99-d57eea3c9826",
   "metadata": {},
   "outputs": [
    {
     "ename": "TypeError",
     "evalue": "Cannot convert sage.rings.integer.Integer to sage.rings.polynomial.polynomial_element.Polynomial",
     "output_type": "error",
     "traceback": [
      "\u001b[0;31m---------------------------------------------------------------------------\u001b[0m",
      "\u001b[0;31mTypeError\u001b[0m                                 Traceback (most recent call last)",
      "Cell \u001b[0;32mIn[28], line 7\u001b[0m\n\u001b[1;32m      4\u001b[0m     \u001b[38;5;28;01mreturn\u001b[39;00m E\n\u001b[1;32m      6\u001b[0m A\u001b[38;5;241m=\u001b[39m matrix(Integer(\u001b[38;5;241m3\u001b[39m), Integer(\u001b[38;5;241m4\u001b[39m), [i\u001b[38;5;241m+\u001b[39mInteger(\u001b[38;5;241m1\u001b[39m) \u001b[38;5;28;01mfor\u001b[39;00m i \u001b[38;5;129;01min\u001b[39;00m \u001b[38;5;28mrange\u001b[39m(Integer(\u001b[38;5;241m12\u001b[39m))])\n\u001b[0;32m----> 7\u001b[0m \u001b[43mech_col\u001b[49m\u001b[43m(\u001b[49m\u001b[43mA\u001b[49m\u001b[43m)\u001b[49m\n",
      "Cell \u001b[0;32mIn[28], line 3\u001b[0m, in \u001b[0;36mech_col\u001b[0;34m(A)\u001b[0m\n\u001b[1;32m      2\u001b[0m \u001b[38;5;28;01mdef\u001b[39;00m \u001b[38;5;21mech_col\u001b[39m(A):\n\u001b[0;32m----> 3\u001b[0m     E \u001b[38;5;241m=\u001b[39m \u001b[43mreversed_hermite_form\u001b[49m\u001b[43m(\u001b[49m\u001b[43mA\u001b[49m\u001b[43m)\u001b[49m\n\u001b[1;32m      4\u001b[0m     \u001b[38;5;28;01mreturn\u001b[39;00m E\n",
      "File \u001b[0;32m~/miniforge3/envs/sage/lib/python3.9/site-packages/sage/rings/function_field/hermite_form_polynomial.pyx:97\u001b[0m, in \u001b[0;36msage.rings.function_field.hermite_form_polynomial.reversed_hermite_form (build/cythonized/sage/rings/function_field/hermite_form_polynomial.c:5865)\u001b[0;34m()\u001b[0m\n\u001b[1;32m     95\u001b[0m \n\u001b[1;32m     96\u001b[0m     cdef Polynomial a, b, d, p, q, e, f, Aic, Alc, Uic, Ulc\n\u001b[0;32m---> 97\u001b[0m     cdef Polynomial zero = A.base_ring().zero()\n\u001b[1;32m     98\u001b[0m \n\u001b[1;32m     99\u001b[0m     cdef int di, dk\n",
      "\u001b[0;31mTypeError\u001b[0m: Cannot convert sage.rings.integer.Integer to sage.rings.polynomial.polynomial_element.Polynomial"
     ]
    }
   ],
   "source": [
    "from sage.rings.function_field.hermite_form_polynomial import reversed_hermite_form\n",
    "\n",
    "def ech_col(A):\n",
    "    E = reversed_hermite_form(A)\n",
    "    return E\n",
    "\n",
    "A= matrix(3, 4, [i+1 for i in range(12)])\n",
    "ech_col(A)"
   ]
  },
  {
   "cell_type": "markdown",
   "id": "4ab6fc4d-12c2-4cf4-9180-5e76dde66774",
   "metadata": {},
   "source": [
    "## 2.\n",
    "\n"
   ]
  },
  {
   "cell_type": "markdown",
   "id": "d389b3cf-b023-4f06-a78b-91ef8be3f60e",
   "metadata": {},
   "source": [
    "## 3."
   ]
  },
  {
   "cell_type": "code",
   "execution_count": 94,
   "id": "ecaca9eb-637c-4154-9abb-766988c147e9",
   "metadata": {},
   "outputs": [
    {
     "ename": "IndentationError",
     "evalue": "expected an indented block (2408073071.py, line 2)",
     "output_type": "error",
     "traceback": [
      "\u001b[0;36m  Cell \u001b[0;32mIn[94], line 2\u001b[0;36m\u001b[0m\n\u001b[0;31m    \u001b[0m\n\u001b[0m    ^\u001b[0m\n\u001b[0;31mIndentationError\u001b[0m\u001b[0;31m:\u001b[0m expected an indented block\n"
     ]
    }
   ],
   "source": [
    "def resoud_ech(E, b):\n",
    "    "
   ]
  },
  {
   "cell_type": "markdown",
   "id": "a54fedda-08e5-46c3-bc35-a00925c22acc",
   "metadata": {},
   "source": [
    "## 4."
   ]
  },
  {
   "cell_type": "code",
   "execution_count": null,
   "id": "0bb0166d-2d32-4c57-b61f-0a07ae169bbf",
   "metadata": {},
   "outputs": [],
   "source": [
    "def resoudre_dans_Z(A, b):\n",
    "    "
   ]
  }
 ],
 "metadata": {
  "kernelspec": {
   "display_name": "SageMath 10.4",
   "language": "sage",
   "name": "sagemath"
  },
  "language_info": {
   "codemirror_mode": {
    "name": "ipython",
    "version": 3
   },
   "file_extension": ".py",
   "mimetype": "text/x-python",
   "name": "python",
   "nbconvert_exporter": "python",
   "pygments_lexer": "ipython3",
   "version": "3.9.20"
  }
 },
 "nbformat": 4,
 "nbformat_minor": 5
}
